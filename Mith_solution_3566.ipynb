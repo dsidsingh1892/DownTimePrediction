{
 "cells": [
  {
   "cell_type": "markdown",
   "metadata": {},
   "source": [
    "# The Basic Approach and Visualizations"
   ]
  },
  {
   "cell_type": "code",
   "execution_count": 1,
   "metadata": {},
   "outputs": [],
   "source": [
    "import pandas as pd\n",
    "import numpy as np\n",
    "import seaborn as sns\n",
    "import matplotlib.pyplot as plt\n",
    "import plotly.express as px\n",
    "from sklearn.model_selection import train_test_split\n",
    "from sklearn.model_selection import GridSearchCV\n",
    "from sklearn.preprocessing import LabelEncoder\n",
    "from sklearn.tree import DecisionTreeClassifier\n",
    "from sklearn.metrics import classification_report\n",
    "from sklearn.ensemble import RandomForestClassifier\n",
    "from imblearn.over_sampling import RandomOverSampler\n",
    "import warnings\n",
    "warnings.filterwarnings('ignore')"
   ]
  },
  {
   "cell_type": "code",
   "execution_count": 2,
   "metadata": {},
   "outputs": [],
   "source": [
    "train_data = pd.read_csv(\"train_data.csv\", na_values=[\" \",\"?\",\"#\"])\n",
    "test_data = pd.read_csv(\"test_data.csv\", na_values=[\" \", \"?\", \"#\"])\n",
    "assembly_line_data = pd.read_csv(\"assembly_line_info.csv\", na_values=[\" \", \"?\", \"#\"])\n",
    "car_variant_data = pd.read_csv(\"car_variant_data.csv\", na_values=[\" \", \"?\", \"#\"])\n",
    "issue_info_data = pd.read_csv(\"issue_info.csv\", na_values=[\" \", \"?\", \"#\"])\n",
    "log_report_type_data = pd.read_csv(\"log_report_type_data.csv\", na_values=[\" \", \"?\", \"#\"])"
   ]
  },
  {
   "cell_type": "code",
   "execution_count": 3,
   "metadata": {},
   "outputs": [
    {
     "name": "stdout",
     "output_type": "stream",
     "text": [
      "The shape of train data is:  (5904, 3)\n",
      "The shape of test data is:  (1477, 2)\n",
      "The shape of assembly line data is:  (21076, 2)\n",
      "The shape of car variant data is:  (31170, 2)\n",
      "The shape of issue info data is:  (18552, 2)\n",
      "The shape of the log report data is:  (58671, 3)\n"
     ]
    }
   ],
   "source": [
    "print(\"The shape of train data is: \",train_data.shape)\n",
    "print(\"The shape of test data is: \",test_data.shape)\n",
    "print(\"The shape of assembly line data is: \",assembly_line_data.shape)\n",
    "print(\"The shape of car variant data is: \",car_variant_data.shape)\n",
    "print(\"The shape of issue info data is: \",issue_info_data.shape)\n",
    "print(\"The shape of the log report data is: \",log_report_type_data.shape)"
   ]
  },
  {
   "cell_type": "code",
   "execution_count": 4,
   "metadata": {},
   "outputs": [
    {
     "data": {
      "text/html": [
       "<div>\n",
       "<style scoped>\n",
       "    .dataframe tbody tr th:only-of-type {\n",
       "        vertical-align: middle;\n",
       "    }\n",
       "\n",
       "    .dataframe tbody tr th {\n",
       "        vertical-align: top;\n",
       "    }\n",
       "\n",
       "    .dataframe thead th {\n",
       "        text-align: right;\n",
       "    }\n",
       "</style>\n",
       "<table border=\"1\" class=\"dataframe\">\n",
       "  <thead>\n",
       "    <tr style=\"text-align: right;\">\n",
       "      <th></th>\n",
       "      <th>id</th>\n",
       "      <th>factory_number</th>\n",
       "      <th>downtime_duration</th>\n",
       "    </tr>\n",
       "  </thead>\n",
       "  <tbody>\n",
       "    <tr>\n",
       "      <th>0</th>\n",
       "      <td>13366</td>\n",
       "      <td>factory_number_415</td>\n",
       "      <td>1</td>\n",
       "    </tr>\n",
       "    <tr>\n",
       "      <th>1</th>\n",
       "      <td>6783</td>\n",
       "      <td>factory_number_474</td>\n",
       "      <td>0</td>\n",
       "    </tr>\n",
       "    <tr>\n",
       "      <th>2</th>\n",
       "      <td>9519</td>\n",
       "      <td>factory_number_931</td>\n",
       "      <td>1</td>\n",
       "    </tr>\n",
       "    <tr>\n",
       "      <th>3</th>\n",
       "      <td>10202</td>\n",
       "      <td>factory_number_700</td>\n",
       "      <td>1</td>\n",
       "    </tr>\n",
       "    <tr>\n",
       "      <th>4</th>\n",
       "      <td>4555</td>\n",
       "      <td>factory_number_600</td>\n",
       "      <td>2</td>\n",
       "    </tr>\n",
       "  </tbody>\n",
       "</table>\n",
       "</div>"
      ],
      "text/plain": [
       "      id      factory_number  downtime_duration\n",
       "0  13366  factory_number_415                  1\n",
       "1   6783  factory_number_474                  0\n",
       "2   9519  factory_number_931                  1\n",
       "3  10202  factory_number_700                  1\n",
       "4   4555  factory_number_600                  2"
      ]
     },
     "execution_count": 4,
     "metadata": {},
     "output_type": "execute_result"
    }
   ],
   "source": [
    "train_data.head() "
   ]
  },
  {
   "cell_type": "code",
   "execution_count": 5,
   "metadata": {
    "scrolled": true
   },
   "outputs": [
    {
     "data": {
      "text/plain": [
       "0    3827\n",
       "1    1496\n",
       "2     581\n",
       "Name: downtime_duration, dtype: int64"
      ]
     },
     "execution_count": 5,
     "metadata": {},
     "output_type": "execute_result"
    }
   ],
   "source": [
    "train_data.downtime_duration.value_counts() "
   ]
  },
  {
   "cell_type": "code",
   "execution_count": 6,
   "metadata": {},
   "outputs": [
    {
     "data": {
      "text/plain": [
       "876"
      ]
     },
     "execution_count": 6,
     "metadata": {},
     "output_type": "execute_result"
    }
   ],
   "source": [
    "train_data.factory_number.nunique() "
   ]
  },
  {
   "cell_type": "code",
   "execution_count": 7,
   "metadata": {},
   "outputs": [
    {
     "data": {
      "text/html": [
       "<div>\n",
       "<style scoped>\n",
       "    .dataframe tbody tr th:only-of-type {\n",
       "        vertical-align: middle;\n",
       "    }\n",
       "\n",
       "    .dataframe tbody tr th {\n",
       "        vertical-align: top;\n",
       "    }\n",
       "\n",
       "    .dataframe thead th {\n",
       "        text-align: right;\n",
       "    }\n",
       "</style>\n",
       "<table border=\"1\" class=\"dataframe\">\n",
       "  <thead>\n",
       "    <tr style=\"text-align: right;\">\n",
       "      <th></th>\n",
       "      <th>id</th>\n",
       "      <th>factory_number</th>\n",
       "    </tr>\n",
       "  </thead>\n",
       "  <tbody>\n",
       "    <tr>\n",
       "      <th>0</th>\n",
       "      <td>3340</td>\n",
       "      <td>factory_number_344</td>\n",
       "    </tr>\n",
       "    <tr>\n",
       "      <th>1</th>\n",
       "      <td>14067</td>\n",
       "      <td>factory_number_933</td>\n",
       "    </tr>\n",
       "    <tr>\n",
       "      <th>2</th>\n",
       "      <td>1134</td>\n",
       "      <td>factory_number_16</td>\n",
       "    </tr>\n",
       "    <tr>\n",
       "      <th>3</th>\n",
       "      <td>27</td>\n",
       "      <td>factory_number_793</td>\n",
       "    </tr>\n",
       "    <tr>\n",
       "      <th>4</th>\n",
       "      <td>9793</td>\n",
       "      <td>factory_number_344</td>\n",
       "    </tr>\n",
       "  </tbody>\n",
       "</table>\n",
       "</div>"
      ],
      "text/plain": [
       "      id      factory_number\n",
       "0   3340  factory_number_344\n",
       "1  14067  factory_number_933\n",
       "2   1134   factory_number_16\n",
       "3     27  factory_number_793\n",
       "4   9793  factory_number_344"
      ]
     },
     "execution_count": 7,
     "metadata": {},
     "output_type": "execute_result"
    }
   ],
   "source": [
    "test_data.head() "
   ]
  },
  {
   "cell_type": "code",
   "execution_count": 8,
   "metadata": {},
   "outputs": [
    {
     "name": "stdout",
     "output_type": "stream",
     "text": [
      "(21076, 2)\n",
      "18552\n"
     ]
    },
    {
     "data": {
      "text/html": [
       "<div>\n",
       "<style scoped>\n",
       "    .dataframe tbody tr th:only-of-type {\n",
       "        vertical-align: middle;\n",
       "    }\n",
       "\n",
       "    .dataframe tbody tr th {\n",
       "        vertical-align: top;\n",
       "    }\n",
       "\n",
       "    .dataframe thead th {\n",
       "        text-align: right;\n",
       "    }\n",
       "</style>\n",
       "<table border=\"1\" class=\"dataframe\">\n",
       "  <thead>\n",
       "    <tr style=\"text-align: right;\">\n",
       "      <th></th>\n",
       "      <th>id</th>\n",
       "      <th>assembly_line_type</th>\n",
       "    </tr>\n",
       "  </thead>\n",
       "  <tbody>\n",
       "    <tr>\n",
       "      <th>0</th>\n",
       "      <td>6597</td>\n",
       "      <td>assembly_line_type_8</td>\n",
       "    </tr>\n",
       "    <tr>\n",
       "      <th>1</th>\n",
       "      <td>8011</td>\n",
       "      <td>assembly_line_type_8</td>\n",
       "    </tr>\n",
       "    <tr>\n",
       "      <th>2</th>\n",
       "      <td>2597</td>\n",
       "      <td>assembly_line_type_8</td>\n",
       "    </tr>\n",
       "    <tr>\n",
       "      <th>3</th>\n",
       "      <td>5022</td>\n",
       "      <td>assembly_line_type_8</td>\n",
       "    </tr>\n",
       "    <tr>\n",
       "      <th>4</th>\n",
       "      <td>6852</td>\n",
       "      <td>assembly_line_type_8</td>\n",
       "    </tr>\n",
       "  </tbody>\n",
       "</table>\n",
       "</div>"
      ],
      "text/plain": [
       "     id    assembly_line_type\n",
       "0  6597  assembly_line_type_8\n",
       "1  8011  assembly_line_type_8\n",
       "2  2597  assembly_line_type_8\n",
       "3  5022  assembly_line_type_8\n",
       "4  6852  assembly_line_type_8"
      ]
     },
     "execution_count": 8,
     "metadata": {},
     "output_type": "execute_result"
    }
   ],
   "source": [
    "print(assembly_line_data.shape) \n",
    "print(assembly_line_data.id.nunique())\n",
    "assembly_line_data.head() "
   ]
  },
  {
   "cell_type": "code",
   "execution_count": 9,
   "metadata": {},
   "outputs": [
    {
     "data": {
      "text/plain": [
       "assembly_line_type_8     10268\n",
       "assembly_line_type_2      8918\n",
       "assembly_line_type_6       582\n",
       "assembly_line_type_7       498\n",
       "assembly_line_type_4       330\n",
       "assembly_line_type_9       190\n",
       "assembly_line_type_3       145\n",
       "assembly_line_type_10       73\n",
       "assembly_line_type_1        58\n",
       "assembly_line_type_5        14\n",
       "Name: assembly_line_type, dtype: int64"
      ]
     },
     "execution_count": 9,
     "metadata": {},
     "output_type": "execute_result"
    }
   ],
   "source": [
    "assembly_line_data.assembly_line_type.value_counts() "
   ]
  },
  {
   "cell_type": "code",
   "execution_count": 10,
   "metadata": {},
   "outputs": [
    {
     "data": {
      "text/html": [
       "<div>\n",
       "<style scoped>\n",
       "    .dataframe tbody tr th:only-of-type {\n",
       "        vertical-align: middle;\n",
       "    }\n",
       "\n",
       "    .dataframe tbody tr th {\n",
       "        vertical-align: top;\n",
       "    }\n",
       "\n",
       "    .dataframe thead th {\n",
       "        text-align: right;\n",
       "    }\n",
       "</style>\n",
       "<table border=\"1\" class=\"dataframe\">\n",
       "  <thead>\n",
       "    <tr style=\"text-align: right;\">\n",
       "      <th></th>\n",
       "      <th>id</th>\n",
       "      <th>car_variant</th>\n",
       "    </tr>\n",
       "  </thead>\n",
       "  <tbody>\n",
       "    <tr>\n",
       "      <th>0</th>\n",
       "      <td>6597</td>\n",
       "      <td>car_variant_11</td>\n",
       "    </tr>\n",
       "    <tr>\n",
       "      <th>1</th>\n",
       "      <td>8011</td>\n",
       "      <td>car_variant_15</td>\n",
       "    </tr>\n",
       "    <tr>\n",
       "      <th>2</th>\n",
       "      <td>2597</td>\n",
       "      <td>car_variant_15</td>\n",
       "    </tr>\n",
       "    <tr>\n",
       "      <th>3</th>\n",
       "      <td>5022</td>\n",
       "      <td>car_variant_15</td>\n",
       "    </tr>\n",
       "    <tr>\n",
       "      <th>4</th>\n",
       "      <td>5022</td>\n",
       "      <td>car_variant_11</td>\n",
       "    </tr>\n",
       "  </tbody>\n",
       "</table>\n",
       "</div>"
      ],
      "text/plain": [
       "     id     car_variant\n",
       "0  6597  car_variant_11\n",
       "1  8011  car_variant_15\n",
       "2  2597  car_variant_15\n",
       "3  5022  car_variant_15\n",
       "4  5022  car_variant_11"
      ]
     },
     "execution_count": 10,
     "metadata": {},
     "output_type": "execute_result"
    }
   ],
   "source": [
    "car_variant_data.head() "
   ]
  },
  {
   "cell_type": "code",
   "execution_count": 11,
   "metadata": {},
   "outputs": [
    {
     "name": "stdout",
     "output_type": "stream",
     "text": [
      "(31170, 2)\n",
      "18552\n",
      "53\n"
     ]
    }
   ],
   "source": [
    "print(car_variant_data.shape)\n",
    "print(car_variant_data.id.nunique())\n",
    "print(car_variant_data.car_variant.nunique())"
   ]
  },
  {
   "cell_type": "code",
   "execution_count": 12,
   "metadata": {},
   "outputs": [
    {
     "data": {
      "text/html": [
       "<div>\n",
       "<style scoped>\n",
       "    .dataframe tbody tr th:only-of-type {\n",
       "        vertical-align: middle;\n",
       "    }\n",
       "\n",
       "    .dataframe tbody tr th {\n",
       "        vertical-align: top;\n",
       "    }\n",
       "\n",
       "    .dataframe thead th {\n",
       "        text-align: right;\n",
       "    }\n",
       "</style>\n",
       "<table border=\"1\" class=\"dataframe\">\n",
       "  <thead>\n",
       "    <tr style=\"text-align: right;\">\n",
       "      <th></th>\n",
       "      <th>id</th>\n",
       "      <th>issue_type</th>\n",
       "    </tr>\n",
       "  </thead>\n",
       "  <tbody>\n",
       "    <tr>\n",
       "      <th>0</th>\n",
       "      <td>6597</td>\n",
       "      <td>issue_type_2</td>\n",
       "    </tr>\n",
       "    <tr>\n",
       "      <th>1</th>\n",
       "      <td>8011</td>\n",
       "      <td>issue_type_2</td>\n",
       "    </tr>\n",
       "    <tr>\n",
       "      <th>2</th>\n",
       "      <td>2597</td>\n",
       "      <td>issue_type_2</td>\n",
       "    </tr>\n",
       "    <tr>\n",
       "      <th>3</th>\n",
       "      <td>5022</td>\n",
       "      <td>issue_type_1</td>\n",
       "    </tr>\n",
       "    <tr>\n",
       "      <th>4</th>\n",
       "      <td>6852</td>\n",
       "      <td>issue_type_1</td>\n",
       "    </tr>\n",
       "  </tbody>\n",
       "</table>\n",
       "</div>"
      ],
      "text/plain": [
       "     id    issue_type\n",
       "0  6597  issue_type_2\n",
       "1  8011  issue_type_2\n",
       "2  2597  issue_type_2\n",
       "3  5022  issue_type_1\n",
       "4  6852  issue_type_1"
      ]
     },
     "execution_count": 12,
     "metadata": {},
     "output_type": "execute_result"
    }
   ],
   "source": [
    "issue_info_data.head() "
   ]
  },
  {
   "cell_type": "code",
   "execution_count": 13,
   "metadata": {},
   "outputs": [
    {
     "name": "stdout",
     "output_type": "stream",
     "text": [
      "(18552, 2)\n",
      "18552\n",
      "5\n"
     ]
    },
    {
     "data": {
      "text/plain": [
       "issue_type_2    8737\n",
       "issue_type_1    8728\n",
       "issue_type_4    1014\n",
       "issue_type_5      65\n",
       "issue_type_3       8\n",
       "Name: issue_type, dtype: int64"
      ]
     },
     "execution_count": 13,
     "metadata": {},
     "output_type": "execute_result"
    }
   ],
   "source": [
    "print(issue_info_data.shape)\n",
    "print(issue_info_data.id.nunique())\n",
    "print(issue_info_data.issue_type.nunique()) \n",
    "issue_info_data.issue_type.value_counts() "
   ]
  },
  {
   "cell_type": "code",
   "execution_count": 14,
   "metadata": {},
   "outputs": [
    {
     "name": "stdout",
     "output_type": "stream",
     "text": [
      "(58671, 3)\n",
      "18552\n",
      "386\n"
     ]
    },
    {
     "data": {
      "text/html": [
       "<div>\n",
       "<style scoped>\n",
       "    .dataframe tbody tr th:only-of-type {\n",
       "        vertical-align: middle;\n",
       "    }\n",
       "\n",
       "    .dataframe tbody tr th {\n",
       "        vertical-align: top;\n",
       "    }\n",
       "\n",
       "    .dataframe thead th {\n",
       "        text-align: right;\n",
       "    }\n",
       "</style>\n",
       "<table border=\"1\" class=\"dataframe\">\n",
       "  <thead>\n",
       "    <tr style=\"text-align: right;\">\n",
       "      <th></th>\n",
       "      <th>id</th>\n",
       "      <th>log_report_type</th>\n",
       "      <th>volume</th>\n",
       "    </tr>\n",
       "  </thead>\n",
       "  <tbody>\n",
       "    <tr>\n",
       "      <th>0</th>\n",
       "      <td>6597</td>\n",
       "      <td>log_report_type_68</td>\n",
       "      <td>6</td>\n",
       "    </tr>\n",
       "    <tr>\n",
       "      <th>1</th>\n",
       "      <td>8011</td>\n",
       "      <td>log_report_type_68</td>\n",
       "      <td>7</td>\n",
       "    </tr>\n",
       "    <tr>\n",
       "      <th>2</th>\n",
       "      <td>2597</td>\n",
       "      <td>log_report_type_68</td>\n",
       "      <td>1</td>\n",
       "    </tr>\n",
       "    <tr>\n",
       "      <th>3</th>\n",
       "      <td>5022</td>\n",
       "      <td>log_report_type_172</td>\n",
       "      <td>2</td>\n",
       "    </tr>\n",
       "    <tr>\n",
       "      <th>4</th>\n",
       "      <td>5022</td>\n",
       "      <td>log_report_type_56</td>\n",
       "      <td>1</td>\n",
       "    </tr>\n",
       "  </tbody>\n",
       "</table>\n",
       "</div>"
      ],
      "text/plain": [
       "     id      log_report_type  volume\n",
       "0  6597   log_report_type_68       6\n",
       "1  8011   log_report_type_68       7\n",
       "2  2597   log_report_type_68       1\n",
       "3  5022  log_report_type_172       2\n",
       "4  5022   log_report_type_56       1"
      ]
     },
     "execution_count": 14,
     "metadata": {},
     "output_type": "execute_result"
    }
   ],
   "source": [
    "print(log_report_type_data.shape)\n",
    "print(log_report_type_data.id.nunique())\n",
    "print(log_report_type_data.log_report_type.nunique()) \n",
    "log_report_type_data.head() "
   ]
  },
  {
   "cell_type": "code",
   "execution_count": 15,
   "metadata": {},
   "outputs": [
    {
     "name": "stdout",
     "output_type": "stream",
     "text": [
      "(6754, 4)\n"
     ]
    },
    {
     "data": {
      "text/html": [
       "<div>\n",
       "<style scoped>\n",
       "    .dataframe tbody tr th:only-of-type {\n",
       "        vertical-align: middle;\n",
       "    }\n",
       "\n",
       "    .dataframe tbody tr th {\n",
       "        vertical-align: top;\n",
       "    }\n",
       "\n",
       "    .dataframe thead th {\n",
       "        text-align: right;\n",
       "    }\n",
       "</style>\n",
       "<table border=\"1\" class=\"dataframe\">\n",
       "  <thead>\n",
       "    <tr style=\"text-align: right;\">\n",
       "      <th></th>\n",
       "      <th>id</th>\n",
       "      <th>factory_number</th>\n",
       "      <th>downtime_duration</th>\n",
       "      <th>assembly_line_type</th>\n",
       "    </tr>\n",
       "  </thead>\n",
       "  <tbody>\n",
       "    <tr>\n",
       "      <th>0</th>\n",
       "      <td>13366</td>\n",
       "      <td>factory_number_415</td>\n",
       "      <td>1</td>\n",
       "      <td>assembly_line_type_2</td>\n",
       "    </tr>\n",
       "    <tr>\n",
       "      <th>1</th>\n",
       "      <td>6783</td>\n",
       "      <td>factory_number_474</td>\n",
       "      <td>0</td>\n",
       "      <td>assembly_line_type_2</td>\n",
       "    </tr>\n",
       "    <tr>\n",
       "      <th>2</th>\n",
       "      <td>9519</td>\n",
       "      <td>factory_number_931</td>\n",
       "      <td>1</td>\n",
       "      <td>assembly_line_type_8</td>\n",
       "    </tr>\n",
       "    <tr>\n",
       "      <th>3</th>\n",
       "      <td>10202</td>\n",
       "      <td>factory_number_700</td>\n",
       "      <td>1</td>\n",
       "      <td>assembly_line_type_8</td>\n",
       "    </tr>\n",
       "    <tr>\n",
       "      <th>4</th>\n",
       "      <td>4555</td>\n",
       "      <td>factory_number_600</td>\n",
       "      <td>2</td>\n",
       "      <td>assembly_line_type_8</td>\n",
       "    </tr>\n",
       "  </tbody>\n",
       "</table>\n",
       "</div>"
      ],
      "text/plain": [
       "      id      factory_number  downtime_duration    assembly_line_type\n",
       "0  13366  factory_number_415                  1  assembly_line_type_2\n",
       "1   6783  factory_number_474                  0  assembly_line_type_2\n",
       "2   9519  factory_number_931                  1  assembly_line_type_8\n",
       "3  10202  factory_number_700                  1  assembly_line_type_8\n",
       "4   4555  factory_number_600                  2  assembly_line_type_8"
      ]
     },
     "execution_count": 15,
     "metadata": {},
     "output_type": "execute_result"
    }
   ],
   "source": [
    "df_train_assembly = pd.merge(train_data,assembly_line_data, on=\"id\", how=\"left\")\n",
    "print(df_train_assembly.shape)\n",
    "df_train_assembly.head() "
   ]
  },
  {
   "cell_type": "code",
   "execution_count": 16,
   "metadata": {},
   "outputs": [
    {
     "name": "stdout",
     "output_type": "stream",
     "text": [
      "(1706, 3)\n"
     ]
    },
    {
     "data": {
      "text/html": [
       "<div>\n",
       "<style scoped>\n",
       "    .dataframe tbody tr th:only-of-type {\n",
       "        vertical-align: middle;\n",
       "    }\n",
       "\n",
       "    .dataframe tbody tr th {\n",
       "        vertical-align: top;\n",
       "    }\n",
       "\n",
       "    .dataframe thead th {\n",
       "        text-align: right;\n",
       "    }\n",
       "</style>\n",
       "<table border=\"1\" class=\"dataframe\">\n",
       "  <thead>\n",
       "    <tr style=\"text-align: right;\">\n",
       "      <th></th>\n",
       "      <th>id</th>\n",
       "      <th>factory_number</th>\n",
       "      <th>assembly_line_type</th>\n",
       "    </tr>\n",
       "  </thead>\n",
       "  <tbody>\n",
       "    <tr>\n",
       "      <th>0</th>\n",
       "      <td>3340</td>\n",
       "      <td>factory_number_344</td>\n",
       "      <td>assembly_line_type_2</td>\n",
       "    </tr>\n",
       "    <tr>\n",
       "      <th>1</th>\n",
       "      <td>14067</td>\n",
       "      <td>factory_number_933</td>\n",
       "      <td>assembly_line_type_2</td>\n",
       "    </tr>\n",
       "    <tr>\n",
       "      <th>2</th>\n",
       "      <td>1134</td>\n",
       "      <td>factory_number_16</td>\n",
       "      <td>assembly_line_type_8</td>\n",
       "    </tr>\n",
       "    <tr>\n",
       "      <th>3</th>\n",
       "      <td>27</td>\n",
       "      <td>factory_number_793</td>\n",
       "      <td>assembly_line_type_8</td>\n",
       "    </tr>\n",
       "    <tr>\n",
       "      <th>4</th>\n",
       "      <td>9793</td>\n",
       "      <td>factory_number_344</td>\n",
       "      <td>assembly_line_type_2</td>\n",
       "    </tr>\n",
       "  </tbody>\n",
       "</table>\n",
       "</div>"
      ],
      "text/plain": [
       "      id      factory_number    assembly_line_type\n",
       "0   3340  factory_number_344  assembly_line_type_2\n",
       "1  14067  factory_number_933  assembly_line_type_2\n",
       "2   1134   factory_number_16  assembly_line_type_8\n",
       "3     27  factory_number_793  assembly_line_type_8\n",
       "4   9793  factory_number_344  assembly_line_type_2"
      ]
     },
     "execution_count": 16,
     "metadata": {},
     "output_type": "execute_result"
    }
   ],
   "source": [
    "df_test_assembly = pd.merge(test_data,assembly_line_data,on=\"id\",how=\"left\")\n",
    "print(df_test_assembly.shape)\n",
    "df_test_assembly.head() "
   ]
  },
  {
   "cell_type": "code",
   "execution_count": 17,
   "metadata": {},
   "outputs": [
    {
     "name": "stdout",
     "output_type": "stream",
     "text": [
      "(12382, 5)\n"
     ]
    },
    {
     "data": {
      "text/html": [
       "<div>\n",
       "<style scoped>\n",
       "    .dataframe tbody tr th:only-of-type {\n",
       "        vertical-align: middle;\n",
       "    }\n",
       "\n",
       "    .dataframe tbody tr th {\n",
       "        vertical-align: top;\n",
       "    }\n",
       "\n",
       "    .dataframe thead th {\n",
       "        text-align: right;\n",
       "    }\n",
       "</style>\n",
       "<table border=\"1\" class=\"dataframe\">\n",
       "  <thead>\n",
       "    <tr style=\"text-align: right;\">\n",
       "      <th></th>\n",
       "      <th>id</th>\n",
       "      <th>factory_number</th>\n",
       "      <th>downtime_duration</th>\n",
       "      <th>assembly_line_type</th>\n",
       "      <th>car_variant</th>\n",
       "    </tr>\n",
       "  </thead>\n",
       "  <tbody>\n",
       "    <tr>\n",
       "      <th>0</th>\n",
       "      <td>13366</td>\n",
       "      <td>factory_number_415</td>\n",
       "      <td>1</td>\n",
       "      <td>assembly_line_type_2</td>\n",
       "      <td>car_variant_35</td>\n",
       "    </tr>\n",
       "    <tr>\n",
       "      <th>1</th>\n",
       "      <td>6783</td>\n",
       "      <td>factory_number_474</td>\n",
       "      <td>0</td>\n",
       "      <td>assembly_line_type_2</td>\n",
       "      <td>car_variant_35</td>\n",
       "    </tr>\n",
       "    <tr>\n",
       "      <th>2</th>\n",
       "      <td>6783</td>\n",
       "      <td>factory_number_474</td>\n",
       "      <td>0</td>\n",
       "      <td>assembly_line_type_2</td>\n",
       "      <td>car_variant_34</td>\n",
       "    </tr>\n",
       "    <tr>\n",
       "      <th>3</th>\n",
       "      <td>9519</td>\n",
       "      <td>factory_number_931</td>\n",
       "      <td>1</td>\n",
       "      <td>assembly_line_type_8</td>\n",
       "      <td>car_variant_15</td>\n",
       "    </tr>\n",
       "    <tr>\n",
       "      <th>4</th>\n",
       "      <td>10202</td>\n",
       "      <td>factory_number_700</td>\n",
       "      <td>1</td>\n",
       "      <td>assembly_line_type_8</td>\n",
       "      <td>car_variant_11</td>\n",
       "    </tr>\n",
       "  </tbody>\n",
       "</table>\n",
       "</div>"
      ],
      "text/plain": [
       "      id      factory_number  downtime_duration    assembly_line_type  \\\n",
       "0  13366  factory_number_415                  1  assembly_line_type_2   \n",
       "1   6783  factory_number_474                  0  assembly_line_type_2   \n",
       "2   6783  factory_number_474                  0  assembly_line_type_2   \n",
       "3   9519  factory_number_931                  1  assembly_line_type_8   \n",
       "4  10202  factory_number_700                  1  assembly_line_type_8   \n",
       "\n",
       "      car_variant  \n",
       "0  car_variant_35  \n",
       "1  car_variant_35  \n",
       "2  car_variant_34  \n",
       "3  car_variant_15  \n",
       "4  car_variant_11  "
      ]
     },
     "execution_count": 17,
     "metadata": {},
     "output_type": "execute_result"
    }
   ],
   "source": [
    "df_train_assembly_car = pd.merge(df_train_assembly, car_variant_data, on='id', how=\"left\")\n",
    "print(df_train_assembly_car.shape)\n",
    "df_train_assembly_car.head() "
   ]
  },
  {
   "cell_type": "code",
   "execution_count": 18,
   "metadata": {},
   "outputs": [
    {
     "name": "stdout",
     "output_type": "stream",
     "text": [
      "(3161, 4)\n"
     ]
    },
    {
     "data": {
      "text/html": [
       "<div>\n",
       "<style scoped>\n",
       "    .dataframe tbody tr th:only-of-type {\n",
       "        vertical-align: middle;\n",
       "    }\n",
       "\n",
       "    .dataframe tbody tr th {\n",
       "        vertical-align: top;\n",
       "    }\n",
       "\n",
       "    .dataframe thead th {\n",
       "        text-align: right;\n",
       "    }\n",
       "</style>\n",
       "<table border=\"1\" class=\"dataframe\">\n",
       "  <thead>\n",
       "    <tr style=\"text-align: right;\">\n",
       "      <th></th>\n",
       "      <th>id</th>\n",
       "      <th>factory_number</th>\n",
       "      <th>assembly_line_type</th>\n",
       "      <th>car_variant</th>\n",
       "    </tr>\n",
       "  </thead>\n",
       "  <tbody>\n",
       "    <tr>\n",
       "      <th>0</th>\n",
       "      <td>3340</td>\n",
       "      <td>factory_number_344</td>\n",
       "      <td>assembly_line_type_2</td>\n",
       "      <td>car_variant_35</td>\n",
       "    </tr>\n",
       "    <tr>\n",
       "      <th>1</th>\n",
       "      <td>14067</td>\n",
       "      <td>factory_number_933</td>\n",
       "      <td>assembly_line_type_2</td>\n",
       "      <td>car_variant_20</td>\n",
       "    </tr>\n",
       "    <tr>\n",
       "      <th>2</th>\n",
       "      <td>1134</td>\n",
       "      <td>factory_number_16</td>\n",
       "      <td>assembly_line_type_8</td>\n",
       "      <td>car_variant_11</td>\n",
       "    </tr>\n",
       "    <tr>\n",
       "      <th>3</th>\n",
       "      <td>27</td>\n",
       "      <td>factory_number_793</td>\n",
       "      <td>assembly_line_type_8</td>\n",
       "      <td>car_variant_11</td>\n",
       "    </tr>\n",
       "    <tr>\n",
       "      <th>4</th>\n",
       "      <td>9793</td>\n",
       "      <td>factory_number_344</td>\n",
       "      <td>assembly_line_type_2</td>\n",
       "      <td>car_variant_34</td>\n",
       "    </tr>\n",
       "  </tbody>\n",
       "</table>\n",
       "</div>"
      ],
      "text/plain": [
       "      id      factory_number    assembly_line_type     car_variant\n",
       "0   3340  factory_number_344  assembly_line_type_2  car_variant_35\n",
       "1  14067  factory_number_933  assembly_line_type_2  car_variant_20\n",
       "2   1134   factory_number_16  assembly_line_type_8  car_variant_11\n",
       "3     27  factory_number_793  assembly_line_type_8  car_variant_11\n",
       "4   9793  factory_number_344  assembly_line_type_2  car_variant_34"
      ]
     },
     "execution_count": 18,
     "metadata": {},
     "output_type": "execute_result"
    }
   ],
   "source": [
    "df_test_assembly_car = pd.merge(df_test_assembly,car_variant_data,on=\"id\", how=\"left\")\n",
    "print(df_test_assembly_car.shape)\n",
    "df_test_assembly_car.head() "
   ]
  },
  {
   "cell_type": "code",
   "execution_count": 19,
   "metadata": {},
   "outputs": [
    {
     "name": "stdout",
     "output_type": "stream",
     "text": [
      "(12382, 6)\n"
     ]
    },
    {
     "data": {
      "text/html": [
       "<div>\n",
       "<style scoped>\n",
       "    .dataframe tbody tr th:only-of-type {\n",
       "        vertical-align: middle;\n",
       "    }\n",
       "\n",
       "    .dataframe tbody tr th {\n",
       "        vertical-align: top;\n",
       "    }\n",
       "\n",
       "    .dataframe thead th {\n",
       "        text-align: right;\n",
       "    }\n",
       "</style>\n",
       "<table border=\"1\" class=\"dataframe\">\n",
       "  <thead>\n",
       "    <tr style=\"text-align: right;\">\n",
       "      <th></th>\n",
       "      <th>id</th>\n",
       "      <th>factory_number</th>\n",
       "      <th>downtime_duration</th>\n",
       "      <th>assembly_line_type</th>\n",
       "      <th>car_variant</th>\n",
       "      <th>issue_type</th>\n",
       "    </tr>\n",
       "  </thead>\n",
       "  <tbody>\n",
       "    <tr>\n",
       "      <th>0</th>\n",
       "      <td>13366</td>\n",
       "      <td>factory_number_415</td>\n",
       "      <td>1</td>\n",
       "      <td>assembly_line_type_2</td>\n",
       "      <td>car_variant_35</td>\n",
       "      <td>issue_type_4</td>\n",
       "    </tr>\n",
       "    <tr>\n",
       "      <th>1</th>\n",
       "      <td>6783</td>\n",
       "      <td>factory_number_474</td>\n",
       "      <td>0</td>\n",
       "      <td>assembly_line_type_2</td>\n",
       "      <td>car_variant_35</td>\n",
       "      <td>issue_type_2</td>\n",
       "    </tr>\n",
       "    <tr>\n",
       "      <th>2</th>\n",
       "      <td>6783</td>\n",
       "      <td>factory_number_474</td>\n",
       "      <td>0</td>\n",
       "      <td>assembly_line_type_2</td>\n",
       "      <td>car_variant_34</td>\n",
       "      <td>issue_type_2</td>\n",
       "    </tr>\n",
       "    <tr>\n",
       "      <th>3</th>\n",
       "      <td>9519</td>\n",
       "      <td>factory_number_931</td>\n",
       "      <td>1</td>\n",
       "      <td>assembly_line_type_8</td>\n",
       "      <td>car_variant_15</td>\n",
       "      <td>issue_type_2</td>\n",
       "    </tr>\n",
       "    <tr>\n",
       "      <th>4</th>\n",
       "      <td>10202</td>\n",
       "      <td>factory_number_700</td>\n",
       "      <td>1</td>\n",
       "      <td>assembly_line_type_8</td>\n",
       "      <td>car_variant_11</td>\n",
       "      <td>issue_type_1</td>\n",
       "    </tr>\n",
       "  </tbody>\n",
       "</table>\n",
       "</div>"
      ],
      "text/plain": [
       "      id      factory_number  downtime_duration    assembly_line_type  \\\n",
       "0  13366  factory_number_415                  1  assembly_line_type_2   \n",
       "1   6783  factory_number_474                  0  assembly_line_type_2   \n",
       "2   6783  factory_number_474                  0  assembly_line_type_2   \n",
       "3   9519  factory_number_931                  1  assembly_line_type_8   \n",
       "4  10202  factory_number_700                  1  assembly_line_type_8   \n",
       "\n",
       "      car_variant    issue_type  \n",
       "0  car_variant_35  issue_type_4  \n",
       "1  car_variant_35  issue_type_2  \n",
       "2  car_variant_34  issue_type_2  \n",
       "3  car_variant_15  issue_type_2  \n",
       "4  car_variant_11  issue_type_1  "
      ]
     },
     "execution_count": 19,
     "metadata": {},
     "output_type": "execute_result"
    }
   ],
   "source": [
    "df_train_assembly_car_issue = pd.merge(df_train_assembly_car, issue_info_data, on='id', \n",
    "                                       how=\"left\")\n",
    "print(df_train_assembly_car_issue.shape)\n",
    "df_train_assembly_car_issue.head() "
   ]
  },
  {
   "cell_type": "code",
   "execution_count": 20,
   "metadata": {},
   "outputs": [
    {
     "name": "stdout",
     "output_type": "stream",
     "text": [
      "(3161, 5)\n"
     ]
    },
    {
     "data": {
      "text/html": [
       "<div>\n",
       "<style scoped>\n",
       "    .dataframe tbody tr th:only-of-type {\n",
       "        vertical-align: middle;\n",
       "    }\n",
       "\n",
       "    .dataframe tbody tr th {\n",
       "        vertical-align: top;\n",
       "    }\n",
       "\n",
       "    .dataframe thead th {\n",
       "        text-align: right;\n",
       "    }\n",
       "</style>\n",
       "<table border=\"1\" class=\"dataframe\">\n",
       "  <thead>\n",
       "    <tr style=\"text-align: right;\">\n",
       "      <th></th>\n",
       "      <th>id</th>\n",
       "      <th>factory_number</th>\n",
       "      <th>assembly_line_type</th>\n",
       "      <th>car_variant</th>\n",
       "      <th>issue_type</th>\n",
       "    </tr>\n",
       "  </thead>\n",
       "  <tbody>\n",
       "    <tr>\n",
       "      <th>0</th>\n",
       "      <td>3340</td>\n",
       "      <td>factory_number_344</td>\n",
       "      <td>assembly_line_type_2</td>\n",
       "      <td>car_variant_35</td>\n",
       "      <td>issue_type_4</td>\n",
       "    </tr>\n",
       "    <tr>\n",
       "      <th>1</th>\n",
       "      <td>14067</td>\n",
       "      <td>factory_number_933</td>\n",
       "      <td>assembly_line_type_2</td>\n",
       "      <td>car_variant_20</td>\n",
       "      <td>issue_type_1</td>\n",
       "    </tr>\n",
       "    <tr>\n",
       "      <th>2</th>\n",
       "      <td>1134</td>\n",
       "      <td>factory_number_16</td>\n",
       "      <td>assembly_line_type_8</td>\n",
       "      <td>car_variant_11</td>\n",
       "      <td>issue_type_1</td>\n",
       "    </tr>\n",
       "    <tr>\n",
       "      <th>3</th>\n",
       "      <td>27</td>\n",
       "      <td>factory_number_793</td>\n",
       "      <td>assembly_line_type_8</td>\n",
       "      <td>car_variant_11</td>\n",
       "      <td>issue_type_1</td>\n",
       "    </tr>\n",
       "    <tr>\n",
       "      <th>4</th>\n",
       "      <td>9793</td>\n",
       "      <td>factory_number_344</td>\n",
       "      <td>assembly_line_type_2</td>\n",
       "      <td>car_variant_34</td>\n",
       "      <td>issue_type_2</td>\n",
       "    </tr>\n",
       "  </tbody>\n",
       "</table>\n",
       "</div>"
      ],
      "text/plain": [
       "      id      factory_number    assembly_line_type     car_variant  \\\n",
       "0   3340  factory_number_344  assembly_line_type_2  car_variant_35   \n",
       "1  14067  factory_number_933  assembly_line_type_2  car_variant_20   \n",
       "2   1134   factory_number_16  assembly_line_type_8  car_variant_11   \n",
       "3     27  factory_number_793  assembly_line_type_8  car_variant_11   \n",
       "4   9793  factory_number_344  assembly_line_type_2  car_variant_34   \n",
       "\n",
       "     issue_type  \n",
       "0  issue_type_4  \n",
       "1  issue_type_1  \n",
       "2  issue_type_1  \n",
       "3  issue_type_1  \n",
       "4  issue_type_2  "
      ]
     },
     "execution_count": 20,
     "metadata": {},
     "output_type": "execute_result"
    }
   ],
   "source": [
    "df_test_assembly_car_issue = pd.merge(df_test_assembly_car, issue_info_data, on='id', \n",
    "                                      how=\"left\")\n",
    "print(df_test_assembly_car_issue.shape)\n",
    "df_test_assembly_car_issue.head() "
   ]
  },
  {
   "cell_type": "code",
   "execution_count": 21,
   "metadata": {},
   "outputs": [
    {
     "name": "stdout",
     "output_type": "stream",
     "text": [
      "(48973, 8)\n"
     ]
    },
    {
     "data": {
      "text/html": [
       "<div>\n",
       "<style scoped>\n",
       "    .dataframe tbody tr th:only-of-type {\n",
       "        vertical-align: middle;\n",
       "    }\n",
       "\n",
       "    .dataframe tbody tr th {\n",
       "        vertical-align: top;\n",
       "    }\n",
       "\n",
       "    .dataframe thead th {\n",
       "        text-align: right;\n",
       "    }\n",
       "</style>\n",
       "<table border=\"1\" class=\"dataframe\">\n",
       "  <thead>\n",
       "    <tr style=\"text-align: right;\">\n",
       "      <th></th>\n",
       "      <th>id</th>\n",
       "      <th>factory_number</th>\n",
       "      <th>downtime_duration</th>\n",
       "      <th>assembly_line_type</th>\n",
       "      <th>car_variant</th>\n",
       "      <th>issue_type</th>\n",
       "      <th>log_report_type</th>\n",
       "      <th>volume</th>\n",
       "    </tr>\n",
       "  </thead>\n",
       "  <tbody>\n",
       "    <tr>\n",
       "      <th>0</th>\n",
       "      <td>13366</td>\n",
       "      <td>factory_number_415</td>\n",
       "      <td>1</td>\n",
       "      <td>assembly_line_type_2</td>\n",
       "      <td>car_variant_35</td>\n",
       "      <td>issue_type_4</td>\n",
       "      <td>log_report_type_312</td>\n",
       "      <td>1</td>\n",
       "    </tr>\n",
       "    <tr>\n",
       "      <th>1</th>\n",
       "      <td>6783</td>\n",
       "      <td>factory_number_474</td>\n",
       "      <td>0</td>\n",
       "      <td>assembly_line_type_2</td>\n",
       "      <td>car_variant_35</td>\n",
       "      <td>issue_type_2</td>\n",
       "      <td>log_report_type_312</td>\n",
       "      <td>2</td>\n",
       "    </tr>\n",
       "    <tr>\n",
       "      <th>2</th>\n",
       "      <td>6783</td>\n",
       "      <td>factory_number_474</td>\n",
       "      <td>0</td>\n",
       "      <td>assembly_line_type_2</td>\n",
       "      <td>car_variant_35</td>\n",
       "      <td>issue_type_2</td>\n",
       "      <td>log_report_type_233</td>\n",
       "      <td>1</td>\n",
       "    </tr>\n",
       "    <tr>\n",
       "      <th>3</th>\n",
       "      <td>6783</td>\n",
       "      <td>factory_number_474</td>\n",
       "      <td>0</td>\n",
       "      <td>assembly_line_type_2</td>\n",
       "      <td>car_variant_35</td>\n",
       "      <td>issue_type_2</td>\n",
       "      <td>log_report_type_232</td>\n",
       "      <td>1</td>\n",
       "    </tr>\n",
       "    <tr>\n",
       "      <th>4</th>\n",
       "      <td>6783</td>\n",
       "      <td>factory_number_474</td>\n",
       "      <td>0</td>\n",
       "      <td>assembly_line_type_2</td>\n",
       "      <td>car_variant_35</td>\n",
       "      <td>issue_type_2</td>\n",
       "      <td>log_report_type_315</td>\n",
       "      <td>2</td>\n",
       "    </tr>\n",
       "  </tbody>\n",
       "</table>\n",
       "</div>"
      ],
      "text/plain": [
       "      id      factory_number  downtime_duration    assembly_line_type  \\\n",
       "0  13366  factory_number_415                  1  assembly_line_type_2   \n",
       "1   6783  factory_number_474                  0  assembly_line_type_2   \n",
       "2   6783  factory_number_474                  0  assembly_line_type_2   \n",
       "3   6783  factory_number_474                  0  assembly_line_type_2   \n",
       "4   6783  factory_number_474                  0  assembly_line_type_2   \n",
       "\n",
       "      car_variant    issue_type      log_report_type  volume  \n",
       "0  car_variant_35  issue_type_4  log_report_type_312       1  \n",
       "1  car_variant_35  issue_type_2  log_report_type_312       2  \n",
       "2  car_variant_35  issue_type_2  log_report_type_233       1  \n",
       "3  car_variant_35  issue_type_2  log_report_type_232       1  \n",
       "4  car_variant_35  issue_type_2  log_report_type_315       2  "
      ]
     },
     "execution_count": 21,
     "metadata": {},
     "output_type": "execute_result"
    }
   ],
   "source": [
    "df_train_assembly_car_issue_log = pd.merge(df_train_assembly_car_issue, log_report_type_data,\n",
    "                                           on=\"id\", how = \"left\") \n",
    "print(df_train_assembly_car_issue_log.shape)\n",
    "df_train_assembly_car_issue_log.head() "
   ]
  },
  {
   "cell_type": "code",
   "execution_count": 22,
   "metadata": {},
   "outputs": [
    {
     "name": "stdout",
     "output_type": "stream",
     "text": [
      "(12866, 7)\n"
     ]
    },
    {
     "data": {
      "text/html": [
       "<div>\n",
       "<style scoped>\n",
       "    .dataframe tbody tr th:only-of-type {\n",
       "        vertical-align: middle;\n",
       "    }\n",
       "\n",
       "    .dataframe tbody tr th {\n",
       "        vertical-align: top;\n",
       "    }\n",
       "\n",
       "    .dataframe thead th {\n",
       "        text-align: right;\n",
       "    }\n",
       "</style>\n",
       "<table border=\"1\" class=\"dataframe\">\n",
       "  <thead>\n",
       "    <tr style=\"text-align: right;\">\n",
       "      <th></th>\n",
       "      <th>id</th>\n",
       "      <th>factory_number</th>\n",
       "      <th>assembly_line_type</th>\n",
       "      <th>car_variant</th>\n",
       "      <th>issue_type</th>\n",
       "      <th>log_report_type</th>\n",
       "      <th>volume</th>\n",
       "    </tr>\n",
       "  </thead>\n",
       "  <tbody>\n",
       "    <tr>\n",
       "      <th>0</th>\n",
       "      <td>3340</td>\n",
       "      <td>factory_number_344</td>\n",
       "      <td>assembly_line_type_2</td>\n",
       "      <td>car_variant_35</td>\n",
       "      <td>issue_type_4</td>\n",
       "      <td>log_report_type_312</td>\n",
       "      <td>2</td>\n",
       "    </tr>\n",
       "    <tr>\n",
       "      <th>1</th>\n",
       "      <td>14067</td>\n",
       "      <td>factory_number_933</td>\n",
       "      <td>assembly_line_type_2</td>\n",
       "      <td>car_variant_20</td>\n",
       "      <td>issue_type_1</td>\n",
       "      <td>log_report_type_134</td>\n",
       "      <td>1</td>\n",
       "    </tr>\n",
       "    <tr>\n",
       "      <th>2</th>\n",
       "      <td>1134</td>\n",
       "      <td>factory_number_16</td>\n",
       "      <td>assembly_line_type_8</td>\n",
       "      <td>car_variant_11</td>\n",
       "      <td>issue_type_1</td>\n",
       "      <td>log_report_type_155</td>\n",
       "      <td>10</td>\n",
       "    </tr>\n",
       "    <tr>\n",
       "      <th>3</th>\n",
       "      <td>1134</td>\n",
       "      <td>factory_number_16</td>\n",
       "      <td>assembly_line_type_8</td>\n",
       "      <td>car_variant_11</td>\n",
       "      <td>issue_type_1</td>\n",
       "      <td>log_report_type_170</td>\n",
       "      <td>6</td>\n",
       "    </tr>\n",
       "    <tr>\n",
       "      <th>4</th>\n",
       "      <td>27</td>\n",
       "      <td>factory_number_793</td>\n",
       "      <td>assembly_line_type_8</td>\n",
       "      <td>car_variant_11</td>\n",
       "      <td>issue_type_1</td>\n",
       "      <td>log_report_type_73</td>\n",
       "      <td>3</td>\n",
       "    </tr>\n",
       "  </tbody>\n",
       "</table>\n",
       "</div>"
      ],
      "text/plain": [
       "      id      factory_number    assembly_line_type     car_variant  \\\n",
       "0   3340  factory_number_344  assembly_line_type_2  car_variant_35   \n",
       "1  14067  factory_number_933  assembly_line_type_2  car_variant_20   \n",
       "2   1134   factory_number_16  assembly_line_type_8  car_variant_11   \n",
       "3   1134   factory_number_16  assembly_line_type_8  car_variant_11   \n",
       "4     27  factory_number_793  assembly_line_type_8  car_variant_11   \n",
       "\n",
       "     issue_type      log_report_type  volume  \n",
       "0  issue_type_4  log_report_type_312       2  \n",
       "1  issue_type_1  log_report_type_134       1  \n",
       "2  issue_type_1  log_report_type_155      10  \n",
       "3  issue_type_1  log_report_type_170       6  \n",
       "4  issue_type_1   log_report_type_73       3  "
      ]
     },
     "execution_count": 22,
     "metadata": {},
     "output_type": "execute_result"
    }
   ],
   "source": [
    "df_test_assembly_car_issue_log = pd.merge(df_test_assembly_car_issue, log_report_type_data, \n",
    "                                          on=\"id\", how=\"left\")\n",
    "print(df_test_assembly_car_issue_log.shape)\n",
    "df_test_assembly_car_issue_log.head()"
   ]
  },
  {
   "cell_type": "code",
   "execution_count": 23,
   "metadata": {},
   "outputs": [],
   "source": [
    "df_train = df_train_assembly_car_issue_log.copy() \n",
    "df_test = df_test_assembly_car_issue_log.copy() "
   ]
  },
  {
   "cell_type": "code",
   "execution_count": 24,
   "metadata": {},
   "outputs": [
    {
     "name": "stdout",
     "output_type": "stream",
     "text": [
      "(48973, 8)\n",
      "(12866, 7)\n"
     ]
    }
   ],
   "source": [
    "print(df_train.shape)\n",
    "print(df_test.shape)"
   ]
  },
  {
   "cell_type": "markdown",
   "metadata": {},
   "source": [
    "# Checking For Null Values in Train and Test"
   ]
  },
  {
   "cell_type": "code",
   "execution_count": 25,
   "metadata": {},
   "outputs": [
    {
     "data": {
      "text/plain": [
       "id                    0\n",
       "factory_number        0\n",
       "downtime_duration     0\n",
       "assembly_line_type    0\n",
       "car_variant           0\n",
       "issue_type            0\n",
       "log_report_type       0\n",
       "volume                0\n",
       "dtype: int64"
      ]
     },
     "execution_count": 25,
     "metadata": {},
     "output_type": "execute_result"
    }
   ],
   "source": [
    "# Null Values in train\n",
    "df_train.isna().sum() "
   ]
  },
  {
   "cell_type": "code",
   "execution_count": 26,
   "metadata": {},
   "outputs": [
    {
     "data": {
      "text/plain": [
       "id                    0\n",
       "factory_number        0\n",
       "assembly_line_type    0\n",
       "car_variant           0\n",
       "issue_type            0\n",
       "log_report_type       0\n",
       "volume                0\n",
       "dtype: int64"
      ]
     },
     "execution_count": 26,
     "metadata": {},
     "output_type": "execute_result"
    }
   ],
   "source": [
    "# Null values in test\n",
    "df_test.isna().sum() "
   ]
  },
  {
   "cell_type": "markdown",
   "metadata": {},
   "source": [
    "# Observation"
   ]
  },
  {
   "cell_type": "markdown",
   "metadata": {},
   "source": [
    " There are no null values in the train or the test data set"
   ]
  },
  {
   "cell_type": "markdown",
   "metadata": {},
   "source": [
    "### Inspecting the Training and Test Data"
   ]
  },
  {
   "cell_type": "code",
   "execution_count": 27,
   "metadata": {},
   "outputs": [
    {
     "data": {
      "text/html": [
       "<div>\n",
       "<style scoped>\n",
       "    .dataframe tbody tr th:only-of-type {\n",
       "        vertical-align: middle;\n",
       "    }\n",
       "\n",
       "    .dataframe tbody tr th {\n",
       "        vertical-align: top;\n",
       "    }\n",
       "\n",
       "    .dataframe thead th {\n",
       "        text-align: right;\n",
       "    }\n",
       "</style>\n",
       "<table border=\"1\" class=\"dataframe\">\n",
       "  <thead>\n",
       "    <tr style=\"text-align: right;\">\n",
       "      <th></th>\n",
       "      <th>Data Type</th>\n",
       "      <th>No of Levels</th>\n",
       "      <th>Levels</th>\n",
       "    </tr>\n",
       "  </thead>\n",
       "  <tbody>\n",
       "    <tr>\n",
       "      <th>id</th>\n",
       "      <td>int64</td>\n",
       "      <td>5904</td>\n",
       "      <td>[13366 6783 9519 ... 10675 14714 6253]</td>\n",
       "    </tr>\n",
       "    <tr>\n",
       "      <th>factory_number</th>\n",
       "      <td>object</td>\n",
       "      <td>876</td>\n",
       "      <td>['factory_number_415' 'factory_number_474' 'fa...</td>\n",
       "    </tr>\n",
       "    <tr>\n",
       "      <th>downtime_duration</th>\n",
       "      <td>int64</td>\n",
       "      <td>3</td>\n",
       "      <td>[1 0 2]</td>\n",
       "    </tr>\n",
       "    <tr>\n",
       "      <th>assembly_line_type</th>\n",
       "      <td>object</td>\n",
       "      <td>10</td>\n",
       "      <td>['assembly_line_type_2' 'assembly_line_type_8'...</td>\n",
       "    </tr>\n",
       "    <tr>\n",
       "      <th>car_variant</th>\n",
       "      <td>object</td>\n",
       "      <td>49</td>\n",
       "      <td>['car_variant_35' 'car_variant_34' 'car_varian...</td>\n",
       "    </tr>\n",
       "    <tr>\n",
       "      <th>issue_type</th>\n",
       "      <td>object</td>\n",
       "      <td>5</td>\n",
       "      <td>['issue_type_4' 'issue_type_2' 'issue_type_1' ...</td>\n",
       "    </tr>\n",
       "    <tr>\n",
       "      <th>log_report_type</th>\n",
       "      <td>object</td>\n",
       "      <td>310</td>\n",
       "      <td>['log_report_type_312' 'log_report_type_233' '...</td>\n",
       "    </tr>\n",
       "    <tr>\n",
       "      <th>volume</th>\n",
       "      <td>int64</td>\n",
       "      <td>240</td>\n",
       "      <td>[1 2 3 6 30 14 273 270 8 34 4 21 66 65 5 16 18...</td>\n",
       "    </tr>\n",
       "  </tbody>\n",
       "</table>\n",
       "</div>"
      ],
      "text/plain": [
       "                   Data Type  No of Levels  \\\n",
       "id                     int64          5904   \n",
       "factory_number        object           876   \n",
       "downtime_duration      int64             3   \n",
       "assembly_line_type    object            10   \n",
       "car_variant           object            49   \n",
       "issue_type            object             5   \n",
       "log_report_type       object           310   \n",
       "volume                 int64           240   \n",
       "\n",
       "                                                               Levels  \n",
       "id                             [13366 6783 9519 ... 10675 14714 6253]  \n",
       "factory_number      ['factory_number_415' 'factory_number_474' 'fa...  \n",
       "downtime_duration                                             [1 0 2]  \n",
       "assembly_line_type  ['assembly_line_type_2' 'assembly_line_type_8'...  \n",
       "car_variant         ['car_variant_35' 'car_variant_34' 'car_varian...  \n",
       "issue_type          ['issue_type_4' 'issue_type_2' 'issue_type_1' ...  \n",
       "log_report_type     ['log_report_type_312' 'log_report_type_233' '...  \n",
       "volume              [1 2 3 6 30 14 273 270 8 34 4 21 66 65 5 16 18...  "
      ]
     },
     "execution_count": 27,
     "metadata": {},
     "output_type": "execute_result"
    }
   ],
   "source": [
    "def inspect_data(data):\n",
    "    return pd.DataFrame({\"Data Type\":data.dtypes,\"No of Levels\":data.apply(lambda x: x.nunique(),axis=0), \"Levels\":data.apply(lambda x: str(x.unique()),axis=0)})\n",
    "inspect_data(df_train)"
   ]
  },
  {
   "cell_type": "code",
   "execution_count": 28,
   "metadata": {},
   "outputs": [
    {
     "data": {
      "text/html": [
       "<div>\n",
       "<style scoped>\n",
       "    .dataframe tbody tr th:only-of-type {\n",
       "        vertical-align: middle;\n",
       "    }\n",
       "\n",
       "    .dataframe tbody tr th {\n",
       "        vertical-align: top;\n",
       "    }\n",
       "\n",
       "    .dataframe thead th {\n",
       "        text-align: right;\n",
       "    }\n",
       "</style>\n",
       "<table border=\"1\" class=\"dataframe\">\n",
       "  <thead>\n",
       "    <tr style=\"text-align: right;\">\n",
       "      <th></th>\n",
       "      <th>Data Type</th>\n",
       "      <th>No of Levels</th>\n",
       "      <th>Levels</th>\n",
       "    </tr>\n",
       "  </thead>\n",
       "  <tbody>\n",
       "    <tr>\n",
       "      <th>id</th>\n",
       "      <td>int64</td>\n",
       "      <td>1477</td>\n",
       "      <td>[3340 14067 1134 ... 7753 989 3129]</td>\n",
       "    </tr>\n",
       "    <tr>\n",
       "      <th>factory_number</th>\n",
       "      <td>object</td>\n",
       "      <td>531</td>\n",
       "      <td>['factory_number_344' 'factory_number_933' 'fa...</td>\n",
       "    </tr>\n",
       "    <tr>\n",
       "      <th>assembly_line_type</th>\n",
       "      <td>object</td>\n",
       "      <td>10</td>\n",
       "      <td>['assembly_line_type_2' 'assembly_line_type_8'...</td>\n",
       "    </tr>\n",
       "    <tr>\n",
       "      <th>car_variant</th>\n",
       "      <td>object</td>\n",
       "      <td>40</td>\n",
       "      <td>['car_variant_35' 'car_variant_20' 'car_varian...</td>\n",
       "    </tr>\n",
       "    <tr>\n",
       "      <th>issue_type</th>\n",
       "      <td>object</td>\n",
       "      <td>4</td>\n",
       "      <td>['issue_type_4' 'issue_type_1' 'issue_type_2' ...</td>\n",
       "    </tr>\n",
       "    <tr>\n",
       "      <th>log_report_type</th>\n",
       "      <td>object</td>\n",
       "      <td>206</td>\n",
       "      <td>['log_report_type_312' 'log_report_type_134' '...</td>\n",
       "    </tr>\n",
       "    <tr>\n",
       "      <th>volume</th>\n",
       "      <td>int64</td>\n",
       "      <td>137</td>\n",
       "      <td>[2 1 10 6 3 12 13 4 23 251 36 400 37 8 30 17 1...</td>\n",
       "    </tr>\n",
       "  </tbody>\n",
       "</table>\n",
       "</div>"
      ],
      "text/plain": [
       "                   Data Type  No of Levels  \\\n",
       "id                     int64          1477   \n",
       "factory_number        object           531   \n",
       "assembly_line_type    object            10   \n",
       "car_variant           object            40   \n",
       "issue_type            object             4   \n",
       "log_report_type       object           206   \n",
       "volume                 int64           137   \n",
       "\n",
       "                                                               Levels  \n",
       "id                                [3340 14067 1134 ... 7753 989 3129]  \n",
       "factory_number      ['factory_number_344' 'factory_number_933' 'fa...  \n",
       "assembly_line_type  ['assembly_line_type_2' 'assembly_line_type_8'...  \n",
       "car_variant         ['car_variant_35' 'car_variant_20' 'car_varian...  \n",
       "issue_type          ['issue_type_4' 'issue_type_1' 'issue_type_2' ...  \n",
       "log_report_type     ['log_report_type_312' 'log_report_type_134' '...  \n",
       "volume              [2 1 10 6 3 12 13 4 23 251 36 400 37 8 30 17 1...  "
      ]
     },
     "execution_count": 28,
     "metadata": {},
     "output_type": "execute_result"
    }
   ],
   "source": [
    "inspect_data(df_test)"
   ]
  },
  {
   "cell_type": "markdown",
   "metadata": {},
   "source": [
    "## Understanding The Data"
   ]
  },
  {
   "cell_type": "code",
   "execution_count": 29,
   "metadata": {},
   "outputs": [
    {
     "name": "stdout",
     "output_type": "stream",
     "text": [
      "['id', 'factory_number', 'downtime_duration', 'assembly_line_type', 'car_variant', 'issue_type', 'log_report_type', 'volume']\n",
      "['id', 'factory_number', 'assembly_line_type', 'car_variant', 'issue_type', 'log_report_type', 'volume']\n"
     ]
    }
   ],
   "source": [
    "# Checking the Column names\n",
    "print(list(df_train.columns))\n",
    "print(list(df_test.columns))"
   ]
  },
  {
   "cell_type": "code",
   "execution_count": 30,
   "metadata": {},
   "outputs": [
    {
     "data": {
      "text/plain": [
       "1      18967\n",
       "2       8806\n",
       "3       3614\n",
       "4       3006\n",
       "5       1789\n",
       "       ...  \n",
       "647        1\n",
       "301        1\n",
       "636        1\n",
       "364        1\n",
       "877        1\n",
       "Name: volume, Length: 240, dtype: int64"
      ]
     },
     "execution_count": 30,
     "metadata": {},
     "output_type": "execute_result"
    }
   ],
   "source": [
    "df_train.volume.value_counts()"
   ]
  },
  {
   "cell_type": "code",
   "execution_count": 31,
   "metadata": {},
   "outputs": [
    {
     "data": {
      "text/plain": [
       "id                     int64\n",
       "factory_number        object\n",
       "downtime_duration      int64\n",
       "assembly_line_type    object\n",
       "car_variant           object\n",
       "issue_type            object\n",
       "log_report_type       object\n",
       "volume                 int64\n",
       "dtype: object"
      ]
     },
     "execution_count": 31,
     "metadata": {},
     "output_type": "execute_result"
    }
   ],
   "source": [
    "# Checking the Data types in train data\n",
    "df_train.dtypes"
   ]
  },
  {
   "cell_type": "code",
   "execution_count": 32,
   "metadata": {},
   "outputs": [
    {
     "data": {
      "text/plain": [
       "id                     int64\n",
       "factory_number        object\n",
       "assembly_line_type    object\n",
       "car_variant           object\n",
       "issue_type            object\n",
       "log_report_type       object\n",
       "volume                 int64\n",
       "dtype: object"
      ]
     },
     "execution_count": 32,
     "metadata": {},
     "output_type": "execute_result"
    }
   ],
   "source": [
    "# Checking the data types in test data\n",
    "df_test.dtypes"
   ]
  },
  {
   "cell_type": "code",
   "execution_count": 33,
   "metadata": {},
   "outputs": [],
   "source": [
    "# Converting the data_type of Target column to category\n",
    "df_train.downtime_duration = df_train.downtime_duration.astype(\"category\") "
   ]
  },
  {
   "cell_type": "code",
   "execution_count": 34,
   "metadata": {},
   "outputs": [
    {
     "data": {
      "text/html": [
       "<div>\n",
       "<style scoped>\n",
       "    .dataframe tbody tr th:only-of-type {\n",
       "        vertical-align: middle;\n",
       "    }\n",
       "\n",
       "    .dataframe tbody tr th {\n",
       "        vertical-align: top;\n",
       "    }\n",
       "\n",
       "    .dataframe thead th {\n",
       "        text-align: right;\n",
       "    }\n",
       "</style>\n",
       "<table border=\"1\" class=\"dataframe\">\n",
       "  <thead>\n",
       "    <tr style=\"text-align: right;\">\n",
       "      <th></th>\n",
       "      <th>count</th>\n",
       "      <th>mean</th>\n",
       "      <th>std</th>\n",
       "      <th>min</th>\n",
       "      <th>25%</th>\n",
       "      <th>50%</th>\n",
       "      <th>75%</th>\n",
       "      <th>max</th>\n",
       "    </tr>\n",
       "  </thead>\n",
       "  <tbody>\n",
       "    <tr>\n",
       "      <th>id</th>\n",
       "      <td>48973.0</td>\n",
       "      <td>9141.189084</td>\n",
       "      <td>5390.273600</td>\n",
       "      <td>1.0</td>\n",
       "      <td>4493.0</td>\n",
       "      <td>9107.0</td>\n",
       "      <td>13663.0</td>\n",
       "      <td>18550.0</td>\n",
       "    </tr>\n",
       "    <tr>\n",
       "      <th>volume</th>\n",
       "      <td>48973.0</td>\n",
       "      <td>8.605742</td>\n",
       "      <td>23.487812</td>\n",
       "      <td>1.0</td>\n",
       "      <td>1.0</td>\n",
       "      <td>2.0</td>\n",
       "      <td>6.0</td>\n",
       "      <td>877.0</td>\n",
       "    </tr>\n",
       "  </tbody>\n",
       "</table>\n",
       "</div>"
      ],
      "text/plain": [
       "          count         mean          std  min     25%     50%      75%  \\\n",
       "id      48973.0  9141.189084  5390.273600  1.0  4493.0  9107.0  13663.0   \n",
       "volume  48973.0     8.605742    23.487812  1.0     1.0     2.0      6.0   \n",
       "\n",
       "            max  \n",
       "id      18550.0  \n",
       "volume    877.0  "
      ]
     },
     "execution_count": 34,
     "metadata": {},
     "output_type": "execute_result"
    }
   ],
   "source": [
    "# Checking the Distribution of Numerical Columns in Train Data set\n",
    "df_train.describe().T"
   ]
  },
  {
   "cell_type": "code",
   "execution_count": 35,
   "metadata": {},
   "outputs": [
    {
     "data": {
      "text/html": [
       "<div>\n",
       "<style scoped>\n",
       "    .dataframe tbody tr th:only-of-type {\n",
       "        vertical-align: middle;\n",
       "    }\n",
       "\n",
       "    .dataframe tbody tr th {\n",
       "        vertical-align: top;\n",
       "    }\n",
       "\n",
       "    .dataframe thead th {\n",
       "        text-align: right;\n",
       "    }\n",
       "</style>\n",
       "<table border=\"1\" class=\"dataframe\">\n",
       "  <thead>\n",
       "    <tr style=\"text-align: right;\">\n",
       "      <th></th>\n",
       "      <th>count</th>\n",
       "      <th>mean</th>\n",
       "      <th>std</th>\n",
       "      <th>min</th>\n",
       "      <th>25%</th>\n",
       "      <th>50%</th>\n",
       "      <th>75%</th>\n",
       "      <th>max</th>\n",
       "    </tr>\n",
       "  </thead>\n",
       "  <tbody>\n",
       "    <tr>\n",
       "      <th>id</th>\n",
       "      <td>12866.0</td>\n",
       "      <td>8964.267760</td>\n",
       "      <td>5373.744994</td>\n",
       "      <td>8.0</td>\n",
       "      <td>4139.0</td>\n",
       "      <td>8686.0</td>\n",
       "      <td>13742.0</td>\n",
       "      <td>18539.0</td>\n",
       "    </tr>\n",
       "    <tr>\n",
       "      <th>volume</th>\n",
       "      <td>12866.0</td>\n",
       "      <td>7.570418</td>\n",
       "      <td>20.502541</td>\n",
       "      <td>1.0</td>\n",
       "      <td>1.0</td>\n",
       "      <td>2.0</td>\n",
       "      <td>5.0</td>\n",
       "      <td>502.0</td>\n",
       "    </tr>\n",
       "  </tbody>\n",
       "</table>\n",
       "</div>"
      ],
      "text/plain": [
       "          count         mean          std  min     25%     50%      75%  \\\n",
       "id      12866.0  8964.267760  5373.744994  8.0  4139.0  8686.0  13742.0   \n",
       "volume  12866.0     7.570418    20.502541  1.0     1.0     2.0      5.0   \n",
       "\n",
       "            max  \n",
       "id      18539.0  \n",
       "volume    502.0  "
      ]
     },
     "execution_count": 35,
     "metadata": {},
     "output_type": "execute_result"
    }
   ],
   "source": [
    "# Checking the Distribution of Numerical Columns in Train Data set\n",
    "df_test.describe().T"
   ]
  },
  {
   "cell_type": "code",
   "execution_count": 36,
   "metadata": {},
   "outputs": [],
   "source": [
    "# dropping the Id column from the train and test data\n",
    "#df_train.drop(\"id\", axis=1, inplace=True)\n",
    "#df_test.drop(\"id\", axis=1, inplace=True)"
   ]
  },
  {
   "cell_type": "code",
   "execution_count": 37,
   "metadata": {},
   "outputs": [
    {
     "data": {
      "text/html": [
       "<div>\n",
       "<style scoped>\n",
       "    .dataframe tbody tr th:only-of-type {\n",
       "        vertical-align: middle;\n",
       "    }\n",
       "\n",
       "    .dataframe tbody tr th {\n",
       "        vertical-align: top;\n",
       "    }\n",
       "\n",
       "    .dataframe thead th {\n",
       "        text-align: right;\n",
       "    }\n",
       "</style>\n",
       "<table border=\"1\" class=\"dataframe\">\n",
       "  <thead>\n",
       "    <tr style=\"text-align: right;\">\n",
       "      <th></th>\n",
       "      <th>factory_number</th>\n",
       "      <th>downtime_duration</th>\n",
       "      <th>assembly_line_type</th>\n",
       "      <th>car_variant</th>\n",
       "      <th>issue_type</th>\n",
       "      <th>log_report_type</th>\n",
       "    </tr>\n",
       "  </thead>\n",
       "  <tbody>\n",
       "    <tr>\n",
       "      <th>count</th>\n",
       "      <td>48973</td>\n",
       "      <td>48973</td>\n",
       "      <td>48973</td>\n",
       "      <td>48973</td>\n",
       "      <td>48973</td>\n",
       "      <td>48973</td>\n",
       "    </tr>\n",
       "    <tr>\n",
       "      <th>unique</th>\n",
       "      <td>876</td>\n",
       "      <td>3</td>\n",
       "      <td>10</td>\n",
       "      <td>49</td>\n",
       "      <td>5</td>\n",
       "      <td>310</td>\n",
       "    </tr>\n",
       "    <tr>\n",
       "      <th>top</th>\n",
       "      <td>factory_number_794</td>\n",
       "      <td>0</td>\n",
       "      <td>assembly_line_type_2</td>\n",
       "      <td>car_variant_11</td>\n",
       "      <td>issue_type_1</td>\n",
       "      <td>log_report_type_312</td>\n",
       "    </tr>\n",
       "    <tr>\n",
       "      <th>freq</th>\n",
       "      <td>1285</td>\n",
       "      <td>29347</td>\n",
       "      <td>25074</td>\n",
       "      <td>10494</td>\n",
       "      <td>28702</td>\n",
       "      <td>3645</td>\n",
       "    </tr>\n",
       "  </tbody>\n",
       "</table>\n",
       "</div>"
      ],
      "text/plain": [
       "            factory_number  downtime_duration    assembly_line_type  \\\n",
       "count                48973              48973                 48973   \n",
       "unique                 876                  3                    10   \n",
       "top     factory_number_794                  0  assembly_line_type_2   \n",
       "freq                  1285              29347                 25074   \n",
       "\n",
       "           car_variant    issue_type      log_report_type  \n",
       "count            48973         48973                48973  \n",
       "unique              49             5                  310  \n",
       "top     car_variant_11  issue_type_1  log_report_type_312  \n",
       "freq             10494         28702                 3645  "
      ]
     },
     "execution_count": 37,
     "metadata": {},
     "output_type": "execute_result"
    }
   ],
   "source": [
    "# Checking categorical variable levels count in train data?\n",
    "df_train.describe(include=[\"object\",\"category\"])"
   ]
  },
  {
   "cell_type": "code",
   "execution_count": 38,
   "metadata": {},
   "outputs": [
    {
     "data": {
      "text/html": [
       "<div>\n",
       "<style scoped>\n",
       "    .dataframe tbody tr th:only-of-type {\n",
       "        vertical-align: middle;\n",
       "    }\n",
       "\n",
       "    .dataframe tbody tr th {\n",
       "        vertical-align: top;\n",
       "    }\n",
       "\n",
       "    .dataframe thead th {\n",
       "        text-align: right;\n",
       "    }\n",
       "</style>\n",
       "<table border=\"1\" class=\"dataframe\">\n",
       "  <thead>\n",
       "    <tr style=\"text-align: right;\">\n",
       "      <th></th>\n",
       "      <th>factory_number</th>\n",
       "      <th>assembly_line_type</th>\n",
       "      <th>car_variant</th>\n",
       "      <th>issue_type</th>\n",
       "      <th>log_report_type</th>\n",
       "    </tr>\n",
       "  </thead>\n",
       "  <tbody>\n",
       "    <tr>\n",
       "      <th>count</th>\n",
       "      <td>12866</td>\n",
       "      <td>12866</td>\n",
       "      <td>12866</td>\n",
       "      <td>12866</td>\n",
       "      <td>12866</td>\n",
       "    </tr>\n",
       "    <tr>\n",
       "      <th>unique</th>\n",
       "      <td>531</td>\n",
       "      <td>10</td>\n",
       "      <td>40</td>\n",
       "      <td>4</td>\n",
       "      <td>206</td>\n",
       "    </tr>\n",
       "    <tr>\n",
       "      <th>top</th>\n",
       "      <td>factory_number_744</td>\n",
       "      <td>assembly_line_type_2</td>\n",
       "      <td>car_variant_11</td>\n",
       "      <td>issue_type_1</td>\n",
       "      <td>log_report_type_312</td>\n",
       "    </tr>\n",
       "    <tr>\n",
       "      <th>freq</th>\n",
       "      <td>430</td>\n",
       "      <td>6672</td>\n",
       "      <td>2631</td>\n",
       "      <td>7869</td>\n",
       "      <td>889</td>\n",
       "    </tr>\n",
       "  </tbody>\n",
       "</table>\n",
       "</div>"
      ],
      "text/plain": [
       "            factory_number    assembly_line_type     car_variant  \\\n",
       "count                12866                 12866           12866   \n",
       "unique                 531                    10              40   \n",
       "top     factory_number_744  assembly_line_type_2  car_variant_11   \n",
       "freq                   430                  6672            2631   \n",
       "\n",
       "          issue_type      log_report_type  \n",
       "count          12866                12866  \n",
       "unique             4                  206  \n",
       "top     issue_type_1  log_report_type_312  \n",
       "freq            7869                  889  "
      ]
     },
     "execution_count": 38,
     "metadata": {},
     "output_type": "execute_result"
    }
   ],
   "source": [
    "# Checking categorical variable levels count in train data?\n",
    "df_test.describe(include=[\"object\",\"category\"]) "
   ]
  },
  {
   "cell_type": "code",
   "execution_count": 39,
   "metadata": {},
   "outputs": [],
   "source": [
    "# defining Numeric and Categorical coulmns in train data\n",
    "num_cols_train = ['volume']\n",
    "cat_cols_train = df_train.columns.difference(num_cols_train).tolist()"
   ]
  },
  {
   "cell_type": "code",
   "execution_count": 40,
   "metadata": {},
   "outputs": [
    {
     "name": "stdout",
     "output_type": "stream",
     "text": [
      "Numeric Columns -> ['volume']\n",
      "Categorical Columns -> ['assembly_line_type', 'car_variant', 'downtime_duration', 'factory_number', 'id', 'issue_type', 'log_report_type']\n"
     ]
    }
   ],
   "source": [
    "print(\"Numeric Columns ->\", num_cols_train)\n",
    "print(\"Categorical Columns ->\", cat_cols_train)"
   ]
  },
  {
   "cell_type": "code",
   "execution_count": 41,
   "metadata": {},
   "outputs": [
    {
     "name": "stdout",
     "output_type": "stream",
     "text": [
      "Numeric Columns -> ['volume']\n",
      "Categorical Columns -> ['assembly_line_type', 'car_variant', 'factory_number', 'id', 'issue_type', 'log_report_type']\n"
     ]
    }
   ],
   "source": [
    "# Defining the Numeric and categorical columns of the Test data\n",
    "num_cols_test = ['volume']\n",
    "cat_cols_test = df_test.columns.difference(num_cols_test).tolist()\n",
    "print(\"Numeric Columns ->\", num_cols_test)\n",
    "print(\"Categorical Columns ->\", cat_cols_test)"
   ]
  },
  {
   "cell_type": "markdown",
   "metadata": {},
   "source": [
    "# Visualizations"
   ]
  },
  {
   "cell_type": "code",
   "execution_count": 42,
   "metadata": {},
   "outputs": [
    {
     "data": {
      "image/png": "[encoded data removed]",
      "text/plain": [
       "<Figure size 432x288 with 1 Axes>"
      ]
     },
     "metadata": {},
     "output_type": "display_data"
    },
    {
     "name": "stdout",
     "output_type": "stream",
     "text": [
      "0    29347\n",
      "1    12812\n",
      "2     6814\n",
      "Name: downtime_duration, dtype: int64\n",
      "0    59.924857\n",
      "1    26.161354\n",
      "2    13.913789\n",
      "Name: downtime_duration, dtype: float64\n"
     ]
    }
   ],
   "source": [
    "# Checking the Distribution of the Target Variable\n",
    "sns.countplot(x='downtime_duration',data=df_train)\n",
    "plt.show()\n",
    "# What are the counts?\n",
    "print(df_train.downtime_duration.value_counts())\n",
    "# What is the percentage?\n",
    "print(df_train.downtime_duration.value_counts(normalize=True)*100)\n",
    "# This seems to be an imbalance dataset w.r.t classes \"1\" and \"2\""
   ]
  },
  {
   "cell_type": "code",
   "execution_count": 43,
   "metadata": {},
   "outputs": [
    {
     "data": {
      "image/png": "[encoded data removed]",
      "text/plain": [
       "<Figure size 2160x2160 with 1 Axes>"
      ]
     },
     "metadata": {},
     "output_type": "display_data"
    }
   ],
   "source": [
    "# How downtime_duration is related to assembly_line\n",
    "plt.figure(figsize = (30,30))\n",
    "sns.countplot(y='assembly_line_type',hue='downtime_duration',data=df_train) \n",
    "plt.legend(['low downtime','down time', 'high down time'])\n",
    "\n",
    "plt.title(\"assembly line type vs downtime duration\",fontsize=20)\n",
    "plt.xlabel('Count',fontsize=15)\n",
    "plt.ylabel('Assembly Line Type',fontsize=25)\n",
    "plt.xticks(fontsize=15)\n",
    "plt.yticks(fontsize=35)\n",
    "plt.grid()\n",
    "plt.show() "
   ]
  },
  {
   "cell_type": "code",
   "execution_count": 104,
   "metadata": {},
   "outputs": [
    {
     "data": {
      "text/html": [
       "<div class='tableauPlaceholder' id='viz1593918608971' style='position: relative'><noscript><a href='#'><img alt=' ' src='https:&#47;&#47;public.tableau.com&#47;static&#47;images&#47;Do&#47;DowntimeDurationAnalysis&#47;AssemblyLine&#47;1_rss.png' style='border: none' /></a></noscript><object class='tableauViz'  style='display:none;'><param name='host_url' value='https%3A%2F%2Fpublic.tableau.com%2F' /> <param name='embed_code_version' value='3' /> <param name='site_root' value='' /><param name='name' value='DowntimeDurationAnalysis&#47;AssemblyLine' /><param name='tabs' value='no' /><param name='toolbar' value='yes' /><param name='static_image' value='https:&#47;&#47;public.tableau.com&#47;static&#47;images&#47;Do&#47;DowntimeDurationAnalysis&#47;AssemblyLine&#47;1.png' /> <param name='animate_transition' value='yes' /><param name='display_static_image' value='yes' /><param name='display_spinner' value='yes' /><param name='display_overlay' value='yes' /><param name='display_count' value='yes' /><param name='language' value='en-GB' /></object></div>                <script type='text/javascript'>                    var divElement = document.getElementById('viz1593918608971');                    var vizElement = divElement.getElementsByTagName('object')[0];                    vizElement.style.width='100%';vizElement.style.height=(divElement.offsetWidth*0.75)+'px';                    var scriptElement = document.createElement('script');                    scriptElement.src = 'https://public.tableau.com/javascripts/api/viz_v1.js';                    vizElement.parentNode.insertBefore(scriptElement, vizElement);                </script>"
      ],
      "text/plain": [
       "<IPython.core.display.HTML object>"
      ]
     },
     "metadata": {},
     "output_type": "display_data"
    }
   ],
   "source": [
    "%%html\n",
    "<div class='tableauPlaceholder' id='viz1593918608971' style='position: relative'><noscript><a href='#'><img alt=' ' src='https:&#47;&#47;public.tableau.com&#47;static&#47;images&#47;Do&#47;DowntimeDurationAnalysis&#47;AssemblyLine&#47;1_rss.png' style='border: none' /></a></noscript><object class='tableauViz'  style='display:none;'><param name='host_url' value='https%3A%2F%2Fpublic.tableau.com%2F' /> <param name='embed_code_version' value='3' /> <param name='site_root' value='' /><param name='name' value='DowntimeDurationAnalysis&#47;AssemblyLine' /><param name='tabs' value='no' /><param name='toolbar' value='yes' /><param name='static_image' value='https:&#47;&#47;public.tableau.com&#47;static&#47;images&#47;Do&#47;DowntimeDurationAnalysis&#47;AssemblyLine&#47;1.png' /> <param name='animate_transition' value='yes' /><param name='display_static_image' value='yes' /><param name='display_spinner' value='yes' /><param name='display_overlay' value='yes' /><param name='display_count' value='yes' /><param name='language' value='en-GB' /></object></div>                <script type='text/javascript'>                    var divElement = document.getElementById('viz1593918608971');                    var vizElement = divElement.getElementsByTagName('object')[0];                    vizElement.style.width='100%';vizElement.style.height=(divElement.offsetWidth*0.75)+'px';                    var scriptElement = document.createElement('script');                    scriptElement.src = 'https://public.tableau.com/javascripts/api/viz_v1.js';                    vizElement.parentNode.insertBefore(scriptElement, vizElement);                </script>"
   ]
  },
  {
   "cell_type": "markdown",
   "metadata": {},
   "source": [
    "# Observation"
   ]
  },
  {
   "cell_type": "markdown",
   "metadata": {},
   "source": [
    "1) Assembly_line_2 and assembly_line_8 are most prone to downtime\n",
    "2) Assembly_line_5 is least prone to downtime"
   ]
  },
  {
   "cell_type": "code",
   "execution_count": 44,
   "metadata": {},
   "outputs": [
    {
     "data": {
      "image/png": "[encoded data removed]",
      "text/plain": [
       "<Figure size 2160x2160 with 1 Axes>"
      ]
     },
     "metadata": {},
     "output_type": "display_data"
    }
   ],
   "source": [
    "# How Downtime duration is related to issue_type\n",
    "plt.figure(figsize = (30,30))\n",
    "sns.countplot(y='issue_type',hue='downtime_duration',data=df_train) \n",
    "plt.legend(['low downtime','down time', 'high down time'])\n",
    "\n",
    "plt.title(\"assembly line type vs downtime duration\",fontsize=20)\n",
    "plt.xlabel('Count',fontsize=15)\n",
    "plt.ylabel('Issue Type',fontsize=15)\n",
    "plt.xticks(fontsize=15)\n",
    "plt.yticks(fontsize=35)\n",
    "plt.grid()\n",
    "plt.show() "
   ]
  },
  {
   "cell_type": "code",
   "execution_count": 103,
   "metadata": {},
   "outputs": [
    {
     "data": {
      "text/html": [
       "<div class='tableauPlaceholder' id='viz1593918095658' style='position: relative'><noscript><a href='#'><img alt=' ' src='https:&#47;&#47;public.tableau.com&#47;static&#47;images&#47;Do&#47;DowntimeDurationAnalysis&#47;IssueType&#47;1_rss.png' style='border: none' /></a></noscript><object class='tableauViz'  style='display:none;'><param name='host_url' value='https%3A%2F%2Fpublic.tableau.com%2F' /> <param name='embed_code_version' value='3' /> <param name='site_root' value='' /><param name='name' value='DowntimeDurationAnalysis&#47;IssueType' /><param name='tabs' value='no' /><param name='toolbar' value='yes' /><param name='static_image' value='https:&#47;&#47;public.tableau.com&#47;static&#47;images&#47;Do&#47;DowntimeDurationAnalysis&#47;IssueType&#47;1.png' /> <param name='animate_transition' value='yes' /><param name='display_static_image' value='yes' /><param name='display_spinner' value='yes' /><param name='display_overlay' value='yes' /><param name='display_count' value='yes' /><param name='language' value='en-GB' /></object></div>                <script type='text/javascript'>                    var divElement = document.getElementById('viz1593918095658');                    var vizElement = divElement.getElementsByTagName('object')[0];                    vizElement.style.width='100%';vizElement.style.height=(divElement.offsetWidth*0.75)+'px';                    var scriptElement = document.createElement('script');                    scriptElement.src = 'https://public.tableau.com/javascripts/api/viz_v1.js';                    vizElement.parentNode.insertBefore(scriptElement, vizElement);                </script>"
      ],
      "text/plain": [
       "<IPython.core.display.HTML object>"
      ]
     },
     "metadata": {},
     "output_type": "display_data"
    }
   ],
   "source": [
    "%%html\n",
    "<div class='tableauPlaceholder' id='viz1593918095658' style='position: relative'><noscript><a href='#'><img alt=' ' src='https:&#47;&#47;public.tableau.com&#47;static&#47;images&#47;Do&#47;DowntimeDurationAnalysis&#47;IssueType&#47;1_rss.png' style='border: none' /></a></noscript><object class='tableauViz'  style='display:none;'><param name='host_url' value='https%3A%2F%2Fpublic.tableau.com%2F' /> <param name='embed_code_version' value='3' /> <param name='site_root' value='' /><param name='name' value='DowntimeDurationAnalysis&#47;IssueType' /><param name='tabs' value='no' /><param name='toolbar' value='yes' /><param name='static_image' value='https:&#47;&#47;public.tableau.com&#47;static&#47;images&#47;Do&#47;DowntimeDurationAnalysis&#47;IssueType&#47;1.png' /> <param name='animate_transition' value='yes' /><param name='display_static_image' value='yes' /><param name='display_spinner' value='yes' /><param name='display_overlay' value='yes' /><param name='display_count' value='yes' /><param name='language' value='en-GB' /></object></div>                <script type='text/javascript'>                    var divElement = document.getElementById('viz1593918095658');                    var vizElement = divElement.getElementsByTagName('object')[0];                    vizElement.style.width='100%';vizElement.style.height=(divElement.offsetWidth*0.75)+'px';                    var scriptElement = document.createElement('script');                    scriptElement.src = 'https://public.tableau.com/javascripts/api/viz_v1.js';                    vizElement.parentNode.insertBefore(scriptElement, vizElement);                </script>"
   ]
  },
  {
   "cell_type": "markdown",
   "metadata": {},
   "source": [
    "# Observations"
   ]
  },
  {
   "cell_type": "markdown",
   "metadata": {},
   "source": [
    "issue_type_2 and issue_type_1 more prone to to low downtimes. However issue_type_1 is more\n",
    "prone to high down time issues as compared to others"
   ]
  },
  {
   "cell_type": "code",
   "execution_count": 45,
   "metadata": {},
   "outputs": [
    {
     "data": {
      "image/png": "[encoded data removed]",
      "text/plain": [
       "<Figure size 720x720 with 1 Axes>"
      ]
     },
     "metadata": {},
     "output_type": "display_data"
    }
   ],
   "source": [
    "# How Car variant is related to Downtime duration\n",
    "plt.figure(figsize = (10,10))\n",
    "sns.countplot(y='car_variant',hue='downtime_duration',data=df_train) \n",
    "plt.legend(['low downtime','down time', 'high down time'],loc= \"lower right\")\n",
    "\n",
    "plt.title(\"Car Variant vs Downtime Duration\",fontsize=20)\n",
    "plt.xlabel('Count',fontsize=15)\n",
    "plt.ylabel('Car Variant',fontsize=15)\n",
    "plt.xticks(fontsize=15)\n",
    "plt.yticks(fontsize=10)\n",
    "plt.show() "
   ]
  },
  {
   "cell_type": "code",
   "execution_count": 105,
   "metadata": {},
   "outputs": [
    {
     "data": {
      "text/html": [
       "<div class='tableauPlaceholder' id='viz1593918795970' style='position: relative'><noscript><a href='#'><img alt=' ' src='https:&#47;&#47;public.tableau.com&#47;static&#47;images&#47;Do&#47;DowntimeDurationAnalysis&#47;CarVariant&#47;1_rss.png' style='border: none' /></a></noscript><object class='tableauViz'  style='display:none;'><param name='host_url' value='https%3A%2F%2Fpublic.tableau.com%2F' /> <param name='embed_code_version' value='3' /> <param name='site_root' value='' /><param name='name' value='DowntimeDurationAnalysis&#47;CarVariant' /><param name='tabs' value='no' /><param name='toolbar' value='yes' /><param name='static_image' value='https:&#47;&#47;public.tableau.com&#47;static&#47;images&#47;Do&#47;DowntimeDurationAnalysis&#47;CarVariant&#47;1.png' /> <param name='animate_transition' value='yes' /><param name='display_static_image' value='yes' /><param name='display_spinner' value='yes' /><param name='display_overlay' value='yes' /><param name='display_count' value='yes' /><param name='language' value='en-GB' /></object></div>                <script type='text/javascript'>                    var divElement = document.getElementById('viz1593918795970');                    var vizElement = divElement.getElementsByTagName('object')[0];                    vizElement.style.width='100%';vizElement.style.height=(divElement.offsetWidth*0.75)+'px';                    var scriptElement = document.createElement('script');                    scriptElement.src = 'https://public.tableau.com/javascripts/api/viz_v1.js';                    vizElement.parentNode.insertBefore(scriptElement, vizElement);                </script>"
      ],
      "text/plain": [
       "<IPython.core.display.HTML object>"
      ]
     },
     "metadata": {},
     "output_type": "display_data"
    }
   ],
   "source": [
    "%%html\n",
    "<div class='tableauPlaceholder' id='viz1593918795970' style='position: relative'><noscript><a href='#'><img alt=' ' src='https:&#47;&#47;public.tableau.com&#47;static&#47;images&#47;Do&#47;DowntimeDurationAnalysis&#47;CarVariant&#47;1_rss.png' style='border: none' /></a></noscript><object class='tableauViz'  style='display:none;'><param name='host_url' value='https%3A%2F%2Fpublic.tableau.com%2F' /> <param name='embed_code_version' value='3' /> <param name='site_root' value='' /><param name='name' value='DowntimeDurationAnalysis&#47;CarVariant' /><param name='tabs' value='no' /><param name='toolbar' value='yes' /><param name='static_image' value='https:&#47;&#47;public.tableau.com&#47;static&#47;images&#47;Do&#47;DowntimeDurationAnalysis&#47;CarVariant&#47;1.png' /> <param name='animate_transition' value='yes' /><param name='display_static_image' value='yes' /><param name='display_spinner' value='yes' /><param name='display_overlay' value='yes' /><param name='display_count' value='yes' /><param name='language' value='en-GB' /></object></div>                <script type='text/javascript'>                    var divElement = document.getElementById('viz1593918795970');                    var vizElement = divElement.getElementsByTagName('object')[0];                    vizElement.style.width='100%';vizElement.style.height=(divElement.offsetWidth*0.75)+'px';                    var scriptElement = document.createElement('script');                    scriptElement.src = 'https://public.tableau.com/javascripts/api/viz_v1.js';                    vizElement.parentNode.insertBefore(scriptElement, vizElement);                </script>"
   ]
  },
  {
   "cell_type": "markdown",
   "metadata": {},
   "source": [
    "# Observations"
   ]
  },
  {
   "cell_type": "markdown",
   "metadata": {},
   "source": [
    "1) Car_Variant_35, Car_variant_34 and car_variant_11, car_variant_15 are more prone to downtimes in general\n",
    "2) Car_variant_15, Car_variant_11 are more prone to Longer Downtimes\n",
    "3) Car_variant_11 has the most downtime count"
   ]
  },
  {
   "cell_type": "code",
   "execution_count": 46,
   "metadata": {
    "scrolled": true
   },
   "outputs": [
    {
     "data": {
      "text/plain": [
       "(array([0, 1, 2]), <a list of 3 Text major ticklabel objects>)"
      ]
     },
     "execution_count": 46,
     "metadata": {},
     "output_type": "execute_result"
    },
    {
     "data": {
      "image/png": "[encoded data removed]",
      "text/plain": [
       "<Figure size 2160x1080 with 1 Axes>"
      ]
     },
     "metadata": {},
     "output_type": "display_data"
    }
   ],
   "source": [
    "# Volume Vs Downtime\n",
    "plt.figure(figsize = (30,15))\n",
    "sns.boxplot(x='volume',y='downtime_duration',data=df_train) \n",
    "plt.title(\"Volume Influence on Downtime Duration\",fontsize=20)\n",
    "plt.xlabel('Downtime Duration',fontsize=15)\n",
    "plt.legend(['high downtime','down time', 'low down time'],loc= \"best\")\n",
    "plt.ylabel('Volume',fontsize=15)\n",
    "plt.xticks(fontsize=15)\n",
    "plt.yticks(fontsize=15) "
   ]
  },
  {
   "cell_type": "code",
   "execution_count": 47,
   "metadata": {},
   "outputs": [],
   "source": [
    "# Outlier Removal on Train data\n",
    "import math\n",
    "mu = df_train.volume.mean()\n",
    "sigma = df_train.volume.std()\n",
    "min_val = math.floor(mu - 3*sigma)\n",
    "max_val = math.floor(mu + 3*sigma)\n",
    "df_train.volume = df_train.volume.clip(min_val,max_val) "
   ]
  },
  {
   "cell_type": "code",
   "execution_count": 48,
   "metadata": {},
   "outputs": [],
   "source": [
    "# OutLier Removal on Test Data\n",
    "import math\n",
    "mu = df_test.volume.mean()\n",
    "sigma = df_test.volume.std()\n",
    "min_val = math.floor(mu - 3*sigma)\n",
    "max_val = math.floor(mu + 3*sigma)\n",
    "df_test.volume = df_test.volume.clip(min_val,max_val) "
   ]
  },
  {
   "cell_type": "code",
   "execution_count": 49,
   "metadata": {},
   "outputs": [
    {
     "data": {
      "text/plain": [
       "(array([0, 1, 2]), <a list of 3 Text major ticklabel objects>)"
      ]
     },
     "execution_count": 49,
     "metadata": {},
     "output_type": "execute_result"
    },
    {
     "data": {
      "image/png": "[encoded data removed]",
      "text/plain": [
       "<Figure size 2160x1080 with 1 Axes>"
      ]
     },
     "metadata": {},
     "output_type": "display_data"
    }
   ],
   "source": [
    "# Volume Vs Downtime After Outlier Removal\n",
    "plt.figure(figsize = (30,15))\n",
    "sns.boxplot(x='volume',y='downtime_duration',data=df_train) \n",
    "plt.title(\"Volume Influence on Downtime Duration\",fontsize=20)\n",
    "plt.xlabel('Downtime Duration',fontsize=15)\n",
    "plt.legend(['low downtime','down time', 'high down time'],loc= \"best\")\n",
    "plt.ylabel('Volume',fontsize=15)\n",
    "plt.xticks(fontsize=15)\n",
    "plt.yticks(fontsize=15)"
   ]
  },
  {
   "cell_type": "code",
   "execution_count": 102,
   "metadata": {
    "scrolled": false
   },
   "outputs": [
    {
     "data": {
      "text/html": [
       "<div class='tableauPlaceholder' id='viz1593915826494' style='position: relative'><noscript><a href='#'><img alt=' ' src='https:&#47;&#47;public.tableau.com&#47;static&#47;images&#47;Do&#47;DowntimeDurationAnalysis&#47;FactoryNumber&#47;1_rss.png' style='border: none' /></a></noscript><object class='tableauViz'  style='display:none;'><param name='host_url' value='https%3A%2F%2Fpublic.tableau.com%2F' /> <param name='embed_code_version' value='3' /> <param name='site_root' value='' /><param name='name' value='DowntimeDurationAnalysis&#47;FactoryNumber' /><param name='tabs' value='no' /><param name='toolbar' value='yes' /><param name='static_image' value='https:&#47;&#47;public.tableau.com&#47;static&#47;images&#47;Do&#47;DowntimeDurationAnalysis&#47;FactoryNumber&#47;1.png' /> <param name='animate_transition' value='yes' /><param name='display_static_image' value='yes' /><param name='display_spinner' value='yes' /><param name='display_overlay' value='yes' /><param name='display_count' value='yes' /><param name='language' value='en-GB' /></object></div>                <script type='text/javascript'>                    var divElement = document.getElementById('viz1593915826494');                    var vizElement = divElement.getElementsByTagName('object')[0];                    vizElement.style.width='100%';vizElement.style.height=(divElement.offsetWidth*0.75)+'px';                    var scriptElement = document.createElement('script');                    scriptElement.src = 'https://public.tableau.com/javascripts/api/viz_v1.js';                    vizElement.parentNode.insertBefore(scriptElement, vizElement);                </script>"
      ],
      "text/plain": [
       "<IPython.core.display.HTML object>"
      ]
     },
     "metadata": {},
     "output_type": "display_data"
    }
   ],
   "source": [
    "%%html\n",
    "<div class='tableauPlaceholder' id='viz1593915826494' style='position: relative'><noscript><a href='#'><img alt=' ' src='https:&#47;&#47;public.tableau.com&#47;static&#47;images&#47;Do&#47;DowntimeDurationAnalysis&#47;FactoryNumber&#47;1_rss.png' style='border: none' /></a></noscript><object class='tableauViz'  style='display:none;'><param name='host_url' value='https%3A%2F%2Fpublic.tableau.com%2F' /> <param name='embed_code_version' value='3' /> <param name='site_root' value='' /><param name='name' value='DowntimeDurationAnalysis&#47;FactoryNumber' /><param name='tabs' value='no' /><param name='toolbar' value='yes' /><param name='static_image' value='https:&#47;&#47;public.tableau.com&#47;static&#47;images&#47;Do&#47;DowntimeDurationAnalysis&#47;FactoryNumber&#47;1.png' /> <param name='animate_transition' value='yes' /><param name='display_static_image' value='yes' /><param name='display_spinner' value='yes' /><param name='display_overlay' value='yes' /><param name='display_count' value='yes' /><param name='language' value='en-GB' /></object></div>                <script type='text/javascript'>                    var divElement = document.getElementById('viz1593915826494');                    var vizElement = divElement.getElementsByTagName('object')[0];                    vizElement.style.width='100%';vizElement.style.height=(divElement.offsetWidth*0.75)+'px';                    var scriptElement = document.createElement('script');                    scriptElement.src = 'https://public.tableau.com/javascripts/api/viz_v1.js';                    vizElement.parentNode.insertBefore(scriptElement, vizElement);                </script>"
   ]
  },
  {
   "cell_type": "code",
   "execution_count": 107,
   "metadata": {},
   "outputs": [
    {
     "data": {
      "text/html": [
       "<div class='tableauPlaceholder' id='viz1593921837249' style='position: relative'><noscript><a href='#'><img alt=' ' src='https:&#47;&#47;public.tableau.com&#47;static&#47;images&#47;Do&#47;DowntimeDurationAnalysis&#47;FactoryNumber3&#47;1_rss.png' style='border: none' /></a></noscript><object class='tableauViz'  style='display:none;'><param name='host_url' value='https%3A%2F%2Fpublic.tableau.com%2F' /> <param name='embed_code_version' value='3' /> <param name='site_root' value='' /><param name='name' value='DowntimeDurationAnalysis&#47;FactoryNumber3' /><param name='tabs' value='no' /><param name='toolbar' value='yes' /><param name='static_image' value='https:&#47;&#47;public.tableau.com&#47;static&#47;images&#47;Do&#47;DowntimeDurationAnalysis&#47;FactoryNumber3&#47;1.png' /> <param name='animate_transition' value='yes' /><param name='display_static_image' value='yes' /><param name='display_spinner' value='yes' /><param name='display_overlay' value='yes' /><param name='display_count' value='yes' /><param name='language' value='en-GB' /></object></div>                <script type='text/javascript'>                    var divElement = document.getElementById('viz1593921837249');                    var vizElement = divElement.getElementsByTagName('object')[0];                    vizElement.style.width='100%';vizElement.style.height=(divElement.offsetWidth*0.75)+'px';                    var scriptElement = document.createElement('script');                    scriptElement.src = 'https://public.tableau.com/javascripts/api/viz_v1.js';                    vizElement.parentNode.insertBefore(scriptElement, vizElement);                </script>"
      ],
      "text/plain": [
       "<IPython.core.display.HTML object>"
      ]
     },
     "metadata": {},
     "output_type": "display_data"
    }
   ],
   "source": [
    "%%html\n",
    "<div class='tableauPlaceholder' id='viz1593921837249' style='position: relative'><noscript><a href='#'><img alt=' ' src='https:&#47;&#47;public.tableau.com&#47;static&#47;images&#47;Do&#47;DowntimeDurationAnalysis&#47;FactoryNumber3&#47;1_rss.png' style='border: none' /></a></noscript><object class='tableauViz'  style='display:none;'><param name='host_url' value='https%3A%2F%2Fpublic.tableau.com%2F' /> <param name='embed_code_version' value='3' /> <param name='site_root' value='' /><param name='name' value='DowntimeDurationAnalysis&#47;FactoryNumber3' /><param name='tabs' value='no' /><param name='toolbar' value='yes' /><param name='static_image' value='https:&#47;&#47;public.tableau.com&#47;static&#47;images&#47;Do&#47;DowntimeDurationAnalysis&#47;FactoryNumber3&#47;1.png' /> <param name='animate_transition' value='yes' /><param name='display_static_image' value='yes' /><param name='display_spinner' value='yes' /><param name='display_overlay' value='yes' /><param name='display_count' value='yes' /><param name='language' value='en-GB' /></object></div>                <script type='text/javascript'>                    var divElement = document.getElementById('viz1593921837249');                    var vizElement = divElement.getElementsByTagName('object')[0];                    vizElement.style.width='100%';vizElement.style.height=(divElement.offsetWidth*0.75)+'px';                    var scriptElement = document.createElement('script');                    scriptElement.src = 'https://public.tableau.com/javascripts/api/viz_v1.js';                    vizElement.parentNode.insertBefore(scriptElement, vizElement);                </script>"
   ]
  },
  {
   "cell_type": "markdown",
   "metadata": {},
   "source": [
    "# Observations"
   ]
  },
  {
   "cell_type": "markdown",
   "metadata": {},
   "source": [
    "Looking at the Downtime Vs Factory_number following are the Observations\n",
    "1) Factory_number_13 is prone to more longer downtime_duration\n",
    "2) Factory_number_794 is prone to downtime in general\n",
    "\n",
    "However if we look at the distribution, we have 18552 unique ids and 876 unique levels in factory_number with which we can set a threshold count of 20, to classify if a particular factory is prone to downtime, by looking at there average_downtime.\n",
    "\n",
    "Based on this analysis Following are my observations\n",
    "1) factory_13, factorynumber_535, factory_number_541, factory_number_632, factory_number_642 are prone to higher downtime duration."
   ]
  },
  {
   "cell_type": "code",
   "execution_count": 51,
   "metadata": {},
   "outputs": [],
   "source": [
    "df_train[\"volume_range\"] = pd.cut(df_train.volume, bins=[0,1,5,10,50,100], \n",
    "                                  labels=[\"one\", \"upto_5\",\"upto_10\", \"up_to_50\",\"upto_100\"])"
   ]
  },
  {
   "cell_type": "code",
   "execution_count": 52,
   "metadata": {},
   "outputs": [
    {
     "data": {
      "text/html": [
       "<div>\n",
       "<style scoped>\n",
       "    .dataframe tbody tr th:only-of-type {\n",
       "        vertical-align: middle;\n",
       "    }\n",
       "\n",
       "    .dataframe tbody tr th {\n",
       "        vertical-align: top;\n",
       "    }\n",
       "\n",
       "    .dataframe thead th {\n",
       "        text-align: right;\n",
       "    }\n",
       "</style>\n",
       "<table border=\"1\" class=\"dataframe\">\n",
       "  <thead>\n",
       "    <tr style=\"text-align: right;\">\n",
       "      <th></th>\n",
       "      <th>id</th>\n",
       "      <th>factory_number</th>\n",
       "      <th>downtime_duration</th>\n",
       "      <th>assembly_line_type</th>\n",
       "      <th>car_variant</th>\n",
       "      <th>issue_type</th>\n",
       "      <th>log_report_type</th>\n",
       "      <th>volume</th>\n",
       "      <th>volume_range</th>\n",
       "    </tr>\n",
       "  </thead>\n",
       "  <tbody>\n",
       "    <tr>\n",
       "      <th>0</th>\n",
       "      <td>13366</td>\n",
       "      <td>factory_number_415</td>\n",
       "      <td>1</td>\n",
       "      <td>assembly_line_type_2</td>\n",
       "      <td>car_variant_35</td>\n",
       "      <td>issue_type_4</td>\n",
       "      <td>log_report_type_312</td>\n",
       "      <td>1</td>\n",
       "      <td>one</td>\n",
       "    </tr>\n",
       "    <tr>\n",
       "      <th>1</th>\n",
       "      <td>6783</td>\n",
       "      <td>factory_number_474</td>\n",
       "      <td>0</td>\n",
       "      <td>assembly_line_type_2</td>\n",
       "      <td>car_variant_35</td>\n",
       "      <td>issue_type_2</td>\n",
       "      <td>log_report_type_312</td>\n",
       "      <td>2</td>\n",
       "      <td>upto_5</td>\n",
       "    </tr>\n",
       "    <tr>\n",
       "      <th>2</th>\n",
       "      <td>6783</td>\n",
       "      <td>factory_number_474</td>\n",
       "      <td>0</td>\n",
       "      <td>assembly_line_type_2</td>\n",
       "      <td>car_variant_35</td>\n",
       "      <td>issue_type_2</td>\n",
       "      <td>log_report_type_233</td>\n",
       "      <td>1</td>\n",
       "      <td>one</td>\n",
       "    </tr>\n",
       "    <tr>\n",
       "      <th>3</th>\n",
       "      <td>6783</td>\n",
       "      <td>factory_number_474</td>\n",
       "      <td>0</td>\n",
       "      <td>assembly_line_type_2</td>\n",
       "      <td>car_variant_35</td>\n",
       "      <td>issue_type_2</td>\n",
       "      <td>log_report_type_232</td>\n",
       "      <td>1</td>\n",
       "      <td>one</td>\n",
       "    </tr>\n",
       "    <tr>\n",
       "      <th>4</th>\n",
       "      <td>6783</td>\n",
       "      <td>factory_number_474</td>\n",
       "      <td>0</td>\n",
       "      <td>assembly_line_type_2</td>\n",
       "      <td>car_variant_35</td>\n",
       "      <td>issue_type_2</td>\n",
       "      <td>log_report_type_315</td>\n",
       "      <td>2</td>\n",
       "      <td>upto_5</td>\n",
       "    </tr>\n",
       "  </tbody>\n",
       "</table>\n",
       "</div>"
      ],
      "text/plain": [
       "      id      factory_number downtime_duration    assembly_line_type  \\\n",
       "0  13366  factory_number_415                 1  assembly_line_type_2   \n",
       "1   6783  factory_number_474                 0  assembly_line_type_2   \n",
       "2   6783  factory_number_474                 0  assembly_line_type_2   \n",
       "3   6783  factory_number_474                 0  assembly_line_type_2   \n",
       "4   6783  factory_number_474                 0  assembly_line_type_2   \n",
       "\n",
       "      car_variant    issue_type      log_report_type  volume volume_range  \n",
       "0  car_variant_35  issue_type_4  log_report_type_312       1          one  \n",
       "1  car_variant_35  issue_type_2  log_report_type_312       2       upto_5  \n",
       "2  car_variant_35  issue_type_2  log_report_type_233       1          one  \n",
       "3  car_variant_35  issue_type_2  log_report_type_232       1          one  \n",
       "4  car_variant_35  issue_type_2  log_report_type_315       2       upto_5  "
      ]
     },
     "execution_count": 52,
     "metadata": {},
     "output_type": "execute_result"
    }
   ],
   "source": [
    "df_train.head() "
   ]
  },
  {
   "cell_type": "code",
   "execution_count": 53,
   "metadata": {},
   "outputs": [
    {
     "data": {
      "text/plain": [
       "id                    0\n",
       "factory_number        0\n",
       "downtime_duration     0\n",
       "assembly_line_type    0\n",
       "car_variant           0\n",
       "issue_type            0\n",
       "log_report_type       0\n",
       "volume                0\n",
       "volume_range          0\n",
       "dtype: int64"
      ]
     },
     "execution_count": 53,
     "metadata": {},
     "output_type": "execute_result"
    }
   ],
   "source": [
    "df_train.isna().sum() "
   ]
  },
  {
   "cell_type": "code",
   "execution_count": 54,
   "metadata": {},
   "outputs": [],
   "source": [
    "df_test[\"volume_range\"] = pd.cut(df_train.volume, bins=[0,1,5,10,50,100], \n",
    "                                  labels=[\"one\", \"upto_5\",\"upto_10\", \"up_to_50\",\"upto_100\"])"
   ]
  },
  {
   "cell_type": "code",
   "execution_count": 55,
   "metadata": {},
   "outputs": [
    {
     "data": {
      "text/html": [
       "<div>\n",
       "<style scoped>\n",
       "    .dataframe tbody tr th:only-of-type {\n",
       "        vertical-align: middle;\n",
       "    }\n",
       "\n",
       "    .dataframe tbody tr th {\n",
       "        vertical-align: top;\n",
       "    }\n",
       "\n",
       "    .dataframe thead th {\n",
       "        text-align: right;\n",
       "    }\n",
       "</style>\n",
       "<table border=\"1\" class=\"dataframe\">\n",
       "  <thead>\n",
       "    <tr style=\"text-align: right;\">\n",
       "      <th></th>\n",
       "      <th>id</th>\n",
       "      <th>factory_number</th>\n",
       "      <th>assembly_line_type</th>\n",
       "      <th>car_variant</th>\n",
       "      <th>issue_type</th>\n",
       "      <th>log_report_type</th>\n",
       "      <th>volume</th>\n",
       "      <th>volume_range</th>\n",
       "    </tr>\n",
       "  </thead>\n",
       "  <tbody>\n",
       "    <tr>\n",
       "      <th>0</th>\n",
       "      <td>3340</td>\n",
       "      <td>factory_number_344</td>\n",
       "      <td>assembly_line_type_2</td>\n",
       "      <td>car_variant_35</td>\n",
       "      <td>issue_type_4</td>\n",
       "      <td>log_report_type_312</td>\n",
       "      <td>2</td>\n",
       "      <td>one</td>\n",
       "    </tr>\n",
       "    <tr>\n",
       "      <th>1</th>\n",
       "      <td>14067</td>\n",
       "      <td>factory_number_933</td>\n",
       "      <td>assembly_line_type_2</td>\n",
       "      <td>car_variant_20</td>\n",
       "      <td>issue_type_1</td>\n",
       "      <td>log_report_type_134</td>\n",
       "      <td>1</td>\n",
       "      <td>upto_5</td>\n",
       "    </tr>\n",
       "    <tr>\n",
       "      <th>2</th>\n",
       "      <td>1134</td>\n",
       "      <td>factory_number_16</td>\n",
       "      <td>assembly_line_type_8</td>\n",
       "      <td>car_variant_11</td>\n",
       "      <td>issue_type_1</td>\n",
       "      <td>log_report_type_155</td>\n",
       "      <td>10</td>\n",
       "      <td>one</td>\n",
       "    </tr>\n",
       "    <tr>\n",
       "      <th>3</th>\n",
       "      <td>1134</td>\n",
       "      <td>factory_number_16</td>\n",
       "      <td>assembly_line_type_8</td>\n",
       "      <td>car_variant_11</td>\n",
       "      <td>issue_type_1</td>\n",
       "      <td>log_report_type_170</td>\n",
       "      <td>6</td>\n",
       "      <td>one</td>\n",
       "    </tr>\n",
       "    <tr>\n",
       "      <th>4</th>\n",
       "      <td>27</td>\n",
       "      <td>factory_number_793</td>\n",
       "      <td>assembly_line_type_8</td>\n",
       "      <td>car_variant_11</td>\n",
       "      <td>issue_type_1</td>\n",
       "      <td>log_report_type_73</td>\n",
       "      <td>3</td>\n",
       "      <td>upto_5</td>\n",
       "    </tr>\n",
       "  </tbody>\n",
       "</table>\n",
       "</div>"
      ],
      "text/plain": [
       "      id      factory_number    assembly_line_type     car_variant  \\\n",
       "0   3340  factory_number_344  assembly_line_type_2  car_variant_35   \n",
       "1  14067  factory_number_933  assembly_line_type_2  car_variant_20   \n",
       "2   1134   factory_number_16  assembly_line_type_8  car_variant_11   \n",
       "3   1134   factory_number_16  assembly_line_type_8  car_variant_11   \n",
       "4     27  factory_number_793  assembly_line_type_8  car_variant_11   \n",
       "\n",
       "     issue_type      log_report_type  volume volume_range  \n",
       "0  issue_type_4  log_report_type_312       2          one  \n",
       "1  issue_type_1  log_report_type_134       1       upto_5  \n",
       "2  issue_type_1  log_report_type_155      10          one  \n",
       "3  issue_type_1  log_report_type_170       6          one  \n",
       "4  issue_type_1   log_report_type_73       3       upto_5  "
      ]
     },
     "execution_count": 55,
     "metadata": {},
     "output_type": "execute_result"
    }
   ],
   "source": [
    "df_test.head() "
   ]
  },
  {
   "cell_type": "code",
   "execution_count": 56,
   "metadata": {},
   "outputs": [
    {
     "data": {
      "text/plain": [
       "id                    0\n",
       "factory_number        0\n",
       "assembly_line_type    0\n",
       "car_variant           0\n",
       "issue_type            0\n",
       "log_report_type       0\n",
       "volume                0\n",
       "volume_range          0\n",
       "dtype: int64"
      ]
     },
     "execution_count": 56,
     "metadata": {},
     "output_type": "execute_result"
    }
   ],
   "source": [
    "df_test.isna().sum() "
   ]
  },
  {
   "cell_type": "code",
   "execution_count": 57,
   "metadata": {},
   "outputs": [
    {
     "data": {
      "image/png": "[encoded data removed]",
      "text/plain": [
       "<Figure size 720x720 with 1 Axes>"
      ]
     },
     "metadata": {},
     "output_type": "display_data"
    }
   ],
   "source": [
    "# Volume Rnge Vs Count\n",
    "plt.figure(figsize = (10,10))\n",
    "sns.countplot(y='volume_range',hue='downtime_duration',data=df_train) \n",
    "plt.legend(['low downtime','down time', 'high down time'],loc= \"lower right\")\n",
    "\n",
    "plt.title(\"volume_range vs Downtime Duration\",fontsize=20)\n",
    "plt.xlabel('Count',fontsize=15)\n",
    "plt.ylabel('Volume Range',fontsize=15)\n",
    "plt.xticks(fontsize=15)\n",
    "plt.yticks(fontsize=15)\n",
    "plt.show() "
   ]
  },
  {
   "cell_type": "code",
   "execution_count": 106,
   "metadata": {},
   "outputs": [
    {
     "data": {
      "text/html": [
       "<div class='tableauPlaceholder' id='viz1593918967772' style='position: relative'><noscript><a href='#'><img alt=' ' src='https:&#47;&#47;public.tableau.com&#47;static&#47;images&#47;Do&#47;DowntimeDurationAnalysis&#47;VolumeRange&#47;1_rss.png' style='border: none' /></a></noscript><object class='tableauViz'  style='display:none;'><param name='host_url' value='https%3A%2F%2Fpublic.tableau.com%2F' /> <param name='embed_code_version' value='3' /> <param name='site_root' value='' /><param name='name' value='DowntimeDurationAnalysis&#47;VolumeRange' /><param name='tabs' value='no' /><param name='toolbar' value='yes' /><param name='static_image' value='https:&#47;&#47;public.tableau.com&#47;static&#47;images&#47;Do&#47;DowntimeDurationAnalysis&#47;VolumeRange&#47;1.png' /> <param name='animate_transition' value='yes' /><param name='display_static_image' value='yes' /><param name='display_spinner' value='yes' /><param name='display_overlay' value='yes' /><param name='display_count' value='yes' /><param name='language' value='en-GB' /></object></div>                <script type='text/javascript'>                    var divElement = document.getElementById('viz1593918967772');                    var vizElement = divElement.getElementsByTagName('object')[0];                    vizElement.style.width='100%';vizElement.style.height=(divElement.offsetWidth*0.75)+'px';                    var scriptElement = document.createElement('script');                    scriptElement.src = 'https://public.tableau.com/javascripts/api/viz_v1.js';                    vizElement.parentNode.insertBefore(scriptElement, vizElement);                </script>"
      ],
      "text/plain": [
       "<IPython.core.display.HTML object>"
      ]
     },
     "metadata": {},
     "output_type": "display_data"
    }
   ],
   "source": [
    "%%html\n",
    "<div class='tableauPlaceholder' id='viz1593918967772' style='position: relative'><noscript><a href='#'><img alt=' ' src='https:&#47;&#47;public.tableau.com&#47;static&#47;images&#47;Do&#47;DowntimeDurationAnalysis&#47;VolumeRange&#47;1_rss.png' style='border: none' /></a></noscript><object class='tableauViz'  style='display:none;'><param name='host_url' value='https%3A%2F%2Fpublic.tableau.com%2F' /> <param name='embed_code_version' value='3' /> <param name='site_root' value='' /><param name='name' value='DowntimeDurationAnalysis&#47;VolumeRange' /><param name='tabs' value='no' /><param name='toolbar' value='yes' /><param name='static_image' value='https:&#47;&#47;public.tableau.com&#47;static&#47;images&#47;Do&#47;DowntimeDurationAnalysis&#47;VolumeRange&#47;1.png' /> <param name='animate_transition' value='yes' /><param name='display_static_image' value='yes' /><param name='display_spinner' value='yes' /><param name='display_overlay' value='yes' /><param name='display_count' value='yes' /><param name='language' value='en-GB' /></object></div>                <script type='text/javascript'>                    var divElement = document.getElementById('viz1593918967772');                    var vizElement = divElement.getElementsByTagName('object')[0];                    vizElement.style.width='100%';vizElement.style.height=(divElement.offsetWidth*0.75)+'px';                    var scriptElement = document.createElement('script');                    scriptElement.src = 'https://public.tableau.com/javascripts/api/viz_v1.js';                    vizElement.parentNode.insertBefore(scriptElement, vizElement);                </script>"
   ]
  },
  {
   "cell_type": "markdown",
   "metadata": {},
   "source": [
    "# Observations"
   ]
  },
  {
   "cell_type": "markdown",
   "metadata": {},
   "source": [
    "1) Volume of 1 and upto five electric vehicles are more suceptible to more downtime(2) and    more number of downtime issues in general\n",
    "2) Volume range upto 5 is more prone to downtime issues\n",
    "3) it could that if there are less volume, the complexity of the eV is more and hence, it's  more prone to downtime issues as compared to more volume on an assembly line, and those eVs may have a less complex design"
   ]
  },
  {
   "cell_type": "code",
   "execution_count": 58,
   "metadata": {},
   "outputs": [],
   "source": [
    "#df_train.drop(\"volume\",axis=1,inplace=True)\n",
    "#df_test.drop(\"volume\", axis=1, inplace=True)"
   ]
  },
  {
   "cell_type": "code",
   "execution_count": 59,
   "metadata": {},
   "outputs": [
    {
     "data": {
      "text/html": [
       "<div>\n",
       "<style scoped>\n",
       "    .dataframe tbody tr th:only-of-type {\n",
       "        vertical-align: middle;\n",
       "    }\n",
       "\n",
       "    .dataframe tbody tr th {\n",
       "        vertical-align: top;\n",
       "    }\n",
       "\n",
       "    .dataframe thead th {\n",
       "        text-align: right;\n",
       "    }\n",
       "</style>\n",
       "<table border=\"1\" class=\"dataframe\">\n",
       "  <thead>\n",
       "    <tr style=\"text-align: right;\">\n",
       "      <th></th>\n",
       "      <th>id</th>\n",
       "      <th>factory_number</th>\n",
       "      <th>downtime_duration</th>\n",
       "      <th>assembly_line_type</th>\n",
       "      <th>car_variant</th>\n",
       "      <th>issue_type</th>\n",
       "      <th>log_report_type</th>\n",
       "      <th>volume_range</th>\n",
       "    </tr>\n",
       "  </thead>\n",
       "  <tbody>\n",
       "    <tr>\n",
       "      <th>0</th>\n",
       "      <td>13366</td>\n",
       "      <td>factory_number_415</td>\n",
       "      <td>1</td>\n",
       "      <td>assembly_line_type_2</td>\n",
       "      <td>car_variant_35</td>\n",
       "      <td>issue_type_4</td>\n",
       "      <td>log_report_type_312</td>\n",
       "      <td>one</td>\n",
       "    </tr>\n",
       "    <tr>\n",
       "      <th>1</th>\n",
       "      <td>6783</td>\n",
       "      <td>factory_number_474</td>\n",
       "      <td>0</td>\n",
       "      <td>assembly_line_type_2</td>\n",
       "      <td>car_variant_35</td>\n",
       "      <td>issue_type_2</td>\n",
       "      <td>log_report_type_312</td>\n",
       "      <td>upto_5</td>\n",
       "    </tr>\n",
       "    <tr>\n",
       "      <th>2</th>\n",
       "      <td>6783</td>\n",
       "      <td>factory_number_474</td>\n",
       "      <td>0</td>\n",
       "      <td>assembly_line_type_2</td>\n",
       "      <td>car_variant_35</td>\n",
       "      <td>issue_type_2</td>\n",
       "      <td>log_report_type_233</td>\n",
       "      <td>one</td>\n",
       "    </tr>\n",
       "    <tr>\n",
       "      <th>3</th>\n",
       "      <td>6783</td>\n",
       "      <td>factory_number_474</td>\n",
       "      <td>0</td>\n",
       "      <td>assembly_line_type_2</td>\n",
       "      <td>car_variant_35</td>\n",
       "      <td>issue_type_2</td>\n",
       "      <td>log_report_type_232</td>\n",
       "      <td>one</td>\n",
       "    </tr>\n",
       "    <tr>\n",
       "      <th>4</th>\n",
       "      <td>6783</td>\n",
       "      <td>factory_number_474</td>\n",
       "      <td>0</td>\n",
       "      <td>assembly_line_type_2</td>\n",
       "      <td>car_variant_35</td>\n",
       "      <td>issue_type_2</td>\n",
       "      <td>log_report_type_315</td>\n",
       "      <td>upto_5</td>\n",
       "    </tr>\n",
       "  </tbody>\n",
       "</table>\n",
       "</div>"
      ],
      "text/plain": [
       "      id      factory_number downtime_duration    assembly_line_type  \\\n",
       "0  13366  factory_number_415                 1  assembly_line_type_2   \n",
       "1   6783  factory_number_474                 0  assembly_line_type_2   \n",
       "2   6783  factory_number_474                 0  assembly_line_type_2   \n",
       "3   6783  factory_number_474                 0  assembly_line_type_2   \n",
       "4   6783  factory_number_474                 0  assembly_line_type_2   \n",
       "\n",
       "      car_variant    issue_type      log_report_type volume_range  \n",
       "0  car_variant_35  issue_type_4  log_report_type_312          one  \n",
       "1  car_variant_35  issue_type_2  log_report_type_312       upto_5  \n",
       "2  car_variant_35  issue_type_2  log_report_type_233          one  \n",
       "3  car_variant_35  issue_type_2  log_report_type_232          one  \n",
       "4  car_variant_35  issue_type_2  log_report_type_315       upto_5  "
      ]
     },
     "execution_count": 59,
     "metadata": {},
     "output_type": "execute_result"
    }
   ],
   "source": [
    "df_train.head() "
   ]
  },
  {
   "cell_type": "code",
   "execution_count": 60,
   "metadata": {},
   "outputs": [
    {
     "data": {
      "text/html": [
       "<div>\n",
       "<style scoped>\n",
       "    .dataframe tbody tr th:only-of-type {\n",
       "        vertical-align: middle;\n",
       "    }\n",
       "\n",
       "    .dataframe tbody tr th {\n",
       "        vertical-align: top;\n",
       "    }\n",
       "\n",
       "    .dataframe thead th {\n",
       "        text-align: right;\n",
       "    }\n",
       "</style>\n",
       "<table border=\"1\" class=\"dataframe\">\n",
       "  <thead>\n",
       "    <tr style=\"text-align: right;\">\n",
       "      <th></th>\n",
       "      <th>id</th>\n",
       "      <th>factory_number</th>\n",
       "      <th>assembly_line_type</th>\n",
       "      <th>car_variant</th>\n",
       "      <th>issue_type</th>\n",
       "      <th>log_report_type</th>\n",
       "      <th>volume_range</th>\n",
       "    </tr>\n",
       "  </thead>\n",
       "  <tbody>\n",
       "    <tr>\n",
       "      <th>0</th>\n",
       "      <td>3340</td>\n",
       "      <td>factory_number_344</td>\n",
       "      <td>assembly_line_type_2</td>\n",
       "      <td>car_variant_35</td>\n",
       "      <td>issue_type_4</td>\n",
       "      <td>log_report_type_312</td>\n",
       "      <td>one</td>\n",
       "    </tr>\n",
       "    <tr>\n",
       "      <th>1</th>\n",
       "      <td>14067</td>\n",
       "      <td>factory_number_933</td>\n",
       "      <td>assembly_line_type_2</td>\n",
       "      <td>car_variant_20</td>\n",
       "      <td>issue_type_1</td>\n",
       "      <td>log_report_type_134</td>\n",
       "      <td>upto_5</td>\n",
       "    </tr>\n",
       "    <tr>\n",
       "      <th>2</th>\n",
       "      <td>1134</td>\n",
       "      <td>factory_number_16</td>\n",
       "      <td>assembly_line_type_8</td>\n",
       "      <td>car_variant_11</td>\n",
       "      <td>issue_type_1</td>\n",
       "      <td>log_report_type_155</td>\n",
       "      <td>one</td>\n",
       "    </tr>\n",
       "    <tr>\n",
       "      <th>3</th>\n",
       "      <td>1134</td>\n",
       "      <td>factory_number_16</td>\n",
       "      <td>assembly_line_type_8</td>\n",
       "      <td>car_variant_11</td>\n",
       "      <td>issue_type_1</td>\n",
       "      <td>log_report_type_170</td>\n",
       "      <td>one</td>\n",
       "    </tr>\n",
       "    <tr>\n",
       "      <th>4</th>\n",
       "      <td>27</td>\n",
       "      <td>factory_number_793</td>\n",
       "      <td>assembly_line_type_8</td>\n",
       "      <td>car_variant_11</td>\n",
       "      <td>issue_type_1</td>\n",
       "      <td>log_report_type_73</td>\n",
       "      <td>upto_5</td>\n",
       "    </tr>\n",
       "  </tbody>\n",
       "</table>\n",
       "</div>"
      ],
      "text/plain": [
       "      id      factory_number    assembly_line_type     car_variant  \\\n",
       "0   3340  factory_number_344  assembly_line_type_2  car_variant_35   \n",
       "1  14067  factory_number_933  assembly_line_type_2  car_variant_20   \n",
       "2   1134   factory_number_16  assembly_line_type_8  car_variant_11   \n",
       "3   1134   factory_number_16  assembly_line_type_8  car_variant_11   \n",
       "4     27  factory_number_793  assembly_line_type_8  car_variant_11   \n",
       "\n",
       "     issue_type      log_report_type volume_range  \n",
       "0  issue_type_4  log_report_type_312          one  \n",
       "1  issue_type_1  log_report_type_134       upto_5  \n",
       "2  issue_type_1  log_report_type_155          one  \n",
       "3  issue_type_1  log_report_type_170          one  \n",
       "4  issue_type_1   log_report_type_73       upto_5  "
      ]
     },
     "execution_count": 60,
     "metadata": {},
     "output_type": "execute_result"
    }
   ],
   "source": [
    "df_test.head() "
   ]
  },
  {
   "cell_type": "code",
   "execution_count": 61,
   "metadata": {},
   "outputs": [
    {
     "data": {
      "text/plain": [
       "id                       int64\n",
       "factory_number          object\n",
       "downtime_duration     category\n",
       "assembly_line_type      object\n",
       "car_variant             object\n",
       "issue_type              object\n",
       "log_report_type         object\n",
       "volume_range          category\n",
       "dtype: object"
      ]
     },
     "execution_count": 61,
     "metadata": {},
     "output_type": "execute_result"
    }
   ],
   "source": [
    "# Checking the column dtypes of train data\n",
    "df_train.dtypes"
   ]
  },
  {
   "cell_type": "code",
   "execution_count": 62,
   "metadata": {},
   "outputs": [
    {
     "data": {
      "text/plain": [
       "id                       int64\n",
       "factory_number          object\n",
       "assembly_line_type      object\n",
       "car_variant             object\n",
       "issue_type              object\n",
       "log_report_type         object\n",
       "volume_range          category\n",
       "dtype: object"
      ]
     },
     "execution_count": 62,
     "metadata": {},
     "output_type": "execute_result"
    }
   ],
   "source": [
    "# Checking the column dtypes of test data\n",
    "df_test.dtypes"
   ]
  },
  {
   "cell_type": "code",
   "execution_count": 63,
   "metadata": {},
   "outputs": [],
   "source": [
    "cat_cols_train = [\"factory_number\",\"downtime_duration\",\"assembly_line_type\",\"car_variant\",\n",
    "                 \"issue_type\",\"log_report_type\", \"volume_range\"]\n",
    "cat_cols_test = [\"factory_number\",\"assembly_line_type\",\"car_variant\",\n",
    "                 \"issue_type\",\"log_report_type\", \"volume_range\"]"
   ]
  },
  {
   "cell_type": "code",
   "execution_count": 64,
   "metadata": {},
   "outputs": [],
   "source": [
    "# Grouping the data based on Factory number\n",
    "d= {}\n",
    "factory_names = df_train.factory_number.unique().tolist() \n",
    "for name in factory_names:\n",
    "    d[name] = pd.DataFrame(df_train.loc[df_train[\"factory_number\"]==name])"
   ]
  },
  {
   "cell_type": "code",
   "execution_count": 65,
   "metadata": {},
   "outputs": [
    {
     "data": {
      "text/plain": [
       "(33, 8)"
      ]
     },
     "execution_count": 65,
     "metadata": {},
     "output_type": "execute_result"
    }
   ],
   "source": [
    "d[\"factory_number_415\"].shape"
   ]
  },
  {
   "cell_type": "code",
   "execution_count": 66,
   "metadata": {},
   "outputs": [
    {
     "name": "stdout",
     "output_type": "stream",
     "text": [
      "(33, 8)\n",
      "(108, 8)\n",
      "(279, 8)\n",
      "(8, 8)\n",
      "(158, 8)\n",
      "(33, 8)\n",
      "(2, 8)\n",
      "(812, 8)\n",
      "(29, 8)\n",
      "(5, 8)\n",
      "(594, 8)\n",
      "(20, 8)\n",
      "(542, 8)\n",
      "(77, 8)\n",
      "(52, 8)\n",
      "(82, 8)\n",
      "(106, 8)\n",
      "(84, 8)\n",
      "(109, 8)\n",
      "(73, 8)\n",
      "(342, 8)\n",
      "(22, 8)\n",
      "(77, 8)\n",
      "(84, 8)\n",
      "(17, 8)\n",
      "(57, 8)\n",
      "(32, 8)\n",
      "(106, 8)\n",
      "(127, 8)\n",
      "(16, 8)\n",
      "(111, 8)\n",
      "(141, 8)\n",
      "(32, 8)\n",
      "(306, 8)\n",
      "(1285, 8)\n",
      "(96, 8)\n",
      "(7, 8)\n",
      "(2, 8)\n",
      "(44, 8)\n",
      "(12, 8)\n",
      "(139, 8)\n",
      "(600, 8)\n",
      "(54, 8)\n",
      "(164, 8)\n",
      "(12, 8)\n",
      "(9, 8)\n",
      "(932, 8)\n",
      "(29, 8)\n",
      "(164, 8)\n",
      "(191, 8)\n",
      "(102, 8)\n",
      "(59, 8)\n",
      "(3, 8)\n",
      "(35, 8)\n",
      "(510, 8)\n",
      "(226, 8)\n",
      "(350, 8)\n",
      "(345, 8)\n",
      "(179, 8)\n",
      "(23, 8)\n",
      "(28, 8)\n",
      "(3, 8)\n",
      "(8, 8)\n",
      "(187, 8)\n",
      "(104, 8)\n",
      "(33, 8)\n",
      "(100, 8)\n",
      "(25, 8)\n",
      "(72, 8)\n",
      "(32, 8)\n",
      "(48, 8)\n",
      "(140, 8)\n",
      "(12, 8)\n",
      "(170, 8)\n",
      "(312, 8)\n",
      "(29, 8)\n",
      "(293, 8)\n",
      "(488, 8)\n",
      "(28, 8)\n",
      "(387, 8)\n",
      "(12, 8)\n",
      "(868, 8)\n",
      "(4, 8)\n",
      "(20, 8)\n",
      "(126, 8)\n",
      "(40, 8)\n",
      "(135, 8)\n",
      "(48, 8)\n",
      "(4, 8)\n",
      "(54, 8)\n",
      "(26, 8)\n",
      "(10, 8)\n",
      "(49, 8)\n",
      "(80, 8)\n",
      "(363, 8)\n",
      "(358, 8)\n",
      "(12, 8)\n",
      "(20, 8)\n",
      "(11, 8)\n",
      "(70, 8)\n",
      "(46, 8)\n",
      "(22, 8)\n",
      "(8, 8)\n",
      "(24, 8)\n",
      "(84, 8)\n",
      "(9, 8)\n",
      "(117, 8)\n",
      "(3, 8)\n",
      "(47, 8)\n",
      "(66, 8)\n",
      "(594, 8)\n",
      "(36, 8)\n",
      "(21, 8)\n",
      "(14, 8)\n",
      "(19, 8)\n",
      "(4, 8)\n",
      "(206, 8)\n",
      "(287, 8)\n",
      "(3, 8)\n",
      "(110, 8)\n",
      "(14, 8)\n",
      "(94, 8)\n",
      "(190, 8)\n",
      "(24, 8)\n",
      "(116, 8)\n",
      "(324, 8)\n",
      "(89, 8)\n",
      "(45, 8)\n",
      "(37, 8)\n",
      "(133, 8)\n",
      "(82, 8)\n",
      "(341, 8)\n",
      "(3, 8)\n",
      "(138, 8)\n",
      "(35, 8)\n",
      "(43, 8)\n",
      "(495, 8)\n",
      "(8, 8)\n",
      "(33, 8)\n",
      "(125, 8)\n",
      "(149, 8)\n",
      "(81, 8)\n",
      "(119, 8)\n",
      "(2, 8)\n",
      "(17, 8)\n",
      "(5, 8)\n",
      "(354, 8)\n",
      "(185, 8)\n",
      "(72, 8)\n",
      "(264, 8)\n",
      "(69, 8)\n",
      "(291, 8)\n",
      "(128, 8)\n",
      "(37, 8)\n",
      "(5, 8)\n",
      "(5, 8)\n",
      "(19, 8)\n",
      "(325, 8)\n",
      "(45, 8)\n",
      "(106, 8)\n",
      "(721, 8)\n",
      "(23, 8)\n",
      "(3, 8)\n",
      "(46, 8)\n",
      "(48, 8)\n",
      "(57, 8)\n",
      "(158, 8)\n",
      "(41, 8)\n",
      "(5, 8)\n",
      "(42, 8)\n",
      "(114, 8)\n",
      "(48, 8)\n",
      "(260, 8)\n",
      "(76, 8)\n",
      "(166, 8)\n",
      "(31, 8)\n",
      "(499, 8)\n",
      "(52, 8)\n",
      "(49, 8)\n",
      "(34, 8)\n",
      "(53, 8)\n",
      "(26, 8)\n",
      "(18, 8)\n",
      "(135, 8)\n",
      "(12, 8)\n",
      "(54, 8)\n",
      "(72, 8)\n",
      "(81, 8)\n",
      "(452, 8)\n",
      "(9, 8)\n",
      "(270, 8)\n",
      "(62, 8)\n",
      "(82, 8)\n",
      "(26, 8)\n",
      "(13, 8)\n",
      "(40, 8)\n",
      "(111, 8)\n",
      "(7, 8)\n",
      "(2, 8)\n",
      "(4, 8)\n",
      "(56, 8)\n",
      "(16, 8)\n",
      "(470, 8)\n",
      "(4, 8)\n",
      "(23, 8)\n",
      "(14, 8)\n",
      "(203, 8)\n",
      "(153, 8)\n",
      "(34, 8)\n",
      "(160, 8)\n",
      "(156, 8)\n",
      "(55, 8)\n",
      "(379, 8)\n",
      "(328, 8)\n",
      "(143, 8)\n",
      "(12, 8)\n",
      "(26, 8)\n",
      "(78, 8)\n",
      "(10, 8)\n",
      "(441, 8)\n",
      "(394, 8)\n",
      "(17, 8)\n",
      "(3, 8)\n",
      "(16, 8)\n",
      "(67, 8)\n",
      "(90, 8)\n",
      "(7, 8)\n",
      "(110, 8)\n",
      "(57, 8)\n",
      "(17, 8)\n",
      "(5, 8)\n",
      "(151, 8)\n",
      "(70, 8)\n",
      "(113, 8)\n",
      "(2, 8)\n",
      "(5, 8)\n",
      "(136, 8)\n",
      "(26, 8)\n",
      "(39, 8)\n",
      "(84, 8)\n",
      "(1, 8)\n",
      "(219, 8)\n",
      "(83, 8)\n",
      "(66, 8)\n",
      "(5, 8)\n",
      "(30, 8)\n",
      "(201, 8)\n",
      "(32, 8)\n",
      "(157, 8)\n",
      "(4, 8)\n",
      "(42, 8)\n",
      "(8, 8)\n",
      "(6, 8)\n",
      "(311, 8)\n",
      "(88, 8)\n",
      "(4, 8)\n",
      "(12, 8)\n",
      "(8, 8)\n",
      "(7, 8)\n",
      "(87, 8)\n",
      "(27, 8)\n",
      "(25, 8)\n",
      "(128, 8)\n",
      "(30, 8)\n",
      "(454, 8)\n",
      "(204, 8)\n",
      "(161, 8)\n",
      "(3, 8)\n",
      "(164, 8)\n",
      "(5, 8)\n",
      "(10, 8)\n",
      "(118, 8)\n",
      "(11, 8)\n",
      "(4, 8)\n",
      "(10, 8)\n",
      "(4, 8)\n",
      "(284, 8)\n",
      "(241, 8)\n",
      "(95, 8)\n",
      "(52, 8)\n",
      "(9, 8)\n",
      "(35, 8)\n",
      "(92, 8)\n",
      "(35, 8)\n",
      "(27, 8)\n",
      "(39, 8)\n",
      "(280, 8)\n",
      "(18, 8)\n",
      "(23, 8)\n",
      "(12, 8)\n",
      "(76, 8)\n",
      "(23, 8)\n",
      "(102, 8)\n",
      "(27, 8)\n",
      "(15, 8)\n",
      "(23, 8)\n",
      "(73, 8)\n",
      "(10, 8)\n",
      "(40, 8)\n",
      "(4, 8)\n",
      "(349, 8)\n",
      "(60, 8)\n",
      "(114, 8)\n",
      "(11, 8)\n",
      "(232, 8)\n",
      "(219, 8)\n",
      "(92, 8)\n",
      "(2, 8)\n",
      "(25, 8)\n",
      "(8, 8)\n",
      "(2, 8)\n",
      "(93, 8)\n",
      "(106, 8)\n",
      "(32, 8)\n",
      "(1, 8)\n",
      "(14, 8)\n",
      "(10, 8)\n",
      "(13, 8)\n",
      "(8, 8)\n",
      "(12, 8)\n",
      "(50, 8)\n",
      "(124, 8)\n",
      "(2, 8)\n",
      "(6, 8)\n",
      "(16, 8)\n",
      "(52, 8)\n",
      "(14, 8)\n",
      "(152, 8)\n",
      "(91, 8)\n",
      "(3, 8)\n",
      "(72, 8)\n",
      "(187, 8)\n",
      "(81, 8)\n",
      "(88, 8)\n",
      "(17, 8)\n",
      "(62, 8)\n",
      "(10, 8)\n",
      "(1, 8)\n",
      "(2, 8)\n",
      "(16, 8)\n",
      "(68, 8)\n",
      "(291, 8)\n",
      "(175, 8)\n",
      "(33, 8)\n",
      "(46, 8)\n",
      "(56, 8)\n",
      "(3, 8)\n",
      "(12, 8)\n",
      "(18, 8)\n",
      "(18, 8)\n",
      "(126, 8)\n",
      "(44, 8)\n",
      "(14, 8)\n",
      "(53, 8)\n",
      "(106, 8)\n",
      "(231, 8)\n",
      "(20, 8)\n",
      "(97, 8)\n",
      "(7, 8)\n",
      "(18, 8)\n",
      "(61, 8)\n",
      "(5, 8)\n",
      "(108, 8)\n",
      "(4, 8)\n",
      "(180, 8)\n",
      "(517, 8)\n",
      "(26, 8)\n",
      "(101, 8)\n",
      "(34, 8)\n",
      "(2, 8)\n",
      "(7, 8)\n",
      "(20, 8)\n",
      "(75, 8)\n",
      "(21, 8)\n",
      "(24, 8)\n",
      "(134, 8)\n",
      "(1, 8)\n",
      "(6, 8)\n",
      "(92, 8)\n",
      "(35, 8)\n",
      "(27, 8)\n",
      "(18, 8)\n",
      "(8, 8)\n",
      "(112, 8)\n",
      "(12, 8)\n",
      "(9, 8)\n",
      "(2, 8)\n",
      "(5, 8)\n",
      "(3, 8)\n",
      "(112, 8)\n",
      "(13, 8)\n",
      "(10, 8)\n",
      "(15, 8)\n",
      "(10, 8)\n",
      "(14, 8)\n",
      "(42, 8)\n",
      "(41, 8)\n",
      "(20, 8)\n",
      "(18, 8)\n",
      "(2, 8)\n",
      "(19, 8)\n",
      "(7, 8)\n",
      "(10, 8)\n",
      "(14, 8)\n",
      "(16, 8)\n",
      "(19, 8)\n",
      "(139, 8)\n",
      "(27, 8)\n",
      "(31, 8)\n",
      "(18, 8)\n",
      "(123, 8)\n",
      "(32, 8)\n",
      "(2, 8)\n",
      "(1, 8)\n",
      "(1, 8)\n",
      "(4, 8)\n",
      "(16, 8)\n",
      "(21, 8)\n",
      "(4, 8)\n",
      "(2, 8)\n",
      "(6, 8)\n",
      "(8, 8)\n",
      "(22, 8)\n",
      "(17, 8)\n",
      "(1, 8)\n",
      "(2, 8)\n",
      "(42, 8)\n",
      "(5, 8)\n",
      "(6, 8)\n",
      "(10, 8)\n",
      "(1, 8)\n",
      "(10, 8)\n",
      "(91, 8)\n",
      "(4, 8)\n",
      "(4, 8)\n",
      "(6, 8)\n",
      "(6, 8)\n",
      "(55, 8)\n",
      "(4, 8)\n",
      "(4, 8)\n",
      "(2, 8)\n",
      "(23, 8)\n",
      "(12, 8)\n",
      "(61, 8)\n",
      "(20, 8)\n",
      "(2, 8)\n",
      "(40, 8)\n",
      "(20, 8)\n",
      "(8, 8)\n",
      "(129, 8)\n",
      "(12, 8)\n",
      "(47, 8)\n",
      "(22, 8)\n",
      "(5, 8)\n",
      "(10, 8)\n",
      "(52, 8)\n",
      "(90, 8)\n",
      "(88, 8)\n",
      "(23, 8)\n",
      "(2, 8)\n",
      "(12, 8)\n",
      "(4, 8)\n",
      "(24, 8)\n",
      "(331, 8)\n",
      "(2, 8)\n",
      "(8, 8)\n",
      "(30, 8)\n",
      "(271, 8)\n",
      "(4, 8)\n",
      "(10, 8)\n",
      "(2, 8)\n",
      "(7, 8)\n",
      "(1, 8)\n",
      "(1, 8)\n",
      "(102, 8)\n",
      "(169, 8)\n",
      "(18, 8)\n",
      "(48, 8)\n",
      "(4, 8)\n",
      "(3, 8)\n",
      "(54, 8)\n",
      "(2, 8)\n",
      "(16, 8)\n",
      "(52, 8)\n",
      "(24, 8)\n",
      "(13, 8)\n",
      "(63, 8)\n",
      "(2, 8)\n",
      "(110, 8)\n",
      "(2, 8)\n",
      "(3, 8)\n",
      "(94, 8)\n",
      "(44, 8)\n",
      "(92, 8)\n",
      "(1, 8)\n",
      "(2, 8)\n",
      "(1, 8)\n",
      "(3, 8)\n",
      "(17, 8)\n",
      "(36, 8)\n",
      "(3, 8)\n",
      "(5, 8)\n",
      "(66, 8)\n",
      "(53, 8)\n",
      "(7, 8)\n",
      "(20, 8)\n",
      "(31, 8)\n",
      "(30, 8)\n",
      "(4, 8)\n",
      "(4, 8)\n",
      "(8, 8)\n",
      "(93, 8)\n",
      "(5, 8)\n",
      "(36, 8)\n",
      "(6, 8)\n",
      "(4, 8)\n",
      "(17, 8)\n",
      "(5, 8)\n",
      "(7, 8)\n",
      "(74, 8)\n",
      "(55, 8)\n",
      "(16, 8)\n",
      "(22, 8)\n",
      "(5, 8)\n",
      "(4, 8)\n",
      "(6, 8)\n",
      "(33, 8)\n",
      "(7, 8)\n",
      "(12, 8)\n",
      "(4, 8)\n",
      "(7, 8)\n",
      "(4, 8)\n",
      "(1, 8)\n",
      "(8, 8)\n",
      "(4, 8)\n",
      "(4, 8)\n",
      "(51, 8)\n",
      "(4, 8)\n",
      "(2, 8)\n",
      "(49, 8)\n",
      "(3, 8)\n",
      "(5, 8)\n",
      "(40, 8)\n",
      "(70, 8)\n",
      "(7, 8)\n",
      "(21, 8)\n",
      "(106, 8)\n",
      "(38, 8)\n",
      "(6, 8)\n",
      "(8, 8)\n",
      "(2, 8)\n",
      "(4, 8)\n",
      "(6, 8)\n",
      "(24, 8)\n",
      "(12, 8)\n",
      "(34, 8)\n",
      "(20, 8)\n",
      "(25, 8)\n",
      "(9, 8)\n",
      "(5, 8)\n",
      "(42, 8)\n",
      "(12, 8)\n",
      "(73, 8)\n",
      "(17, 8)\n",
      "(2, 8)\n",
      "(17, 8)\n",
      "(15, 8)\n",
      "(9, 8)\n",
      "(108, 8)\n",
      "(1, 8)\n",
      "(4, 8)\n",
      "(1, 8)\n",
      "(9, 8)\n",
      "(21, 8)\n",
      "(5, 8)\n",
      "(11, 8)\n",
      "(3, 8)\n",
      "(7, 8)\n",
      "(20, 8)\n",
      "(59, 8)\n",
      "(2, 8)\n",
      "(6, 8)\n",
      "(1, 8)\n",
      "(2, 8)\n",
      "(12, 8)\n",
      "(4, 8)\n",
      "(3, 8)\n",
      "(48, 8)\n",
      "(16, 8)\n",
      "(12, 8)\n",
      "(14, 8)\n",
      "(37, 8)\n",
      "(4, 8)\n",
      "(11, 8)\n",
      "(2, 8)\n",
      "(2, 8)\n",
      "(5, 8)\n",
      "(3, 8)\n",
      "(3, 8)\n",
      "(14, 8)\n",
      "(4, 8)\n",
      "(8, 8)\n",
      "(16, 8)\n",
      "(5, 8)\n",
      "(4, 8)\n",
      "(340, 8)\n",
      "(14, 8)\n",
      "(3, 8)\n",
      "(8, 8)\n",
      "(4, 8)\n",
      "(88, 8)\n",
      "(7, 8)\n",
      "(4, 8)\n",
      "(7, 8)\n",
      "(10, 8)\n",
      "(56, 8)\n",
      "(15, 8)\n",
      "(20, 8)\n",
      "(1, 8)\n",
      "(143, 8)\n",
      "(12, 8)\n",
      "(17, 8)\n",
      "(18, 8)\n",
      "(34, 8)\n",
      "(3, 8)\n",
      "(22, 8)\n",
      "(1, 8)\n",
      "(3, 8)\n",
      "(14, 8)\n",
      "(12, 8)\n",
      "(40, 8)\n",
      "(6, 8)\n",
      "(23, 8)\n",
      "(8, 8)\n",
      "(10, 8)\n",
      "(6, 8)\n",
      "(3, 8)\n",
      "(2, 8)\n",
      "(2, 8)\n",
      "(84, 8)\n",
      "(12, 8)\n",
      "(4, 8)\n",
      "(2, 8)\n",
      "(2, 8)\n",
      "(12, 8)\n",
      "(12, 8)\n",
      "(4, 8)\n",
      "(4, 8)\n",
      "(8, 8)\n",
      "(42, 8)\n",
      "(2, 8)\n",
      "(1, 8)\n",
      "(53, 8)\n",
      "(3, 8)\n",
      "(11, 8)\n",
      "(358, 8)\n",
      "(1, 8)\n",
      "(3, 8)\n",
      "(4, 8)\n",
      "(24, 8)\n",
      "(2, 8)\n",
      "(2, 8)\n",
      "(47, 8)\n",
      "(40, 8)\n",
      "(2, 8)\n",
      "(2, 8)\n",
      "(36, 8)\n",
      "(39, 8)\n",
      "(1, 8)\n",
      "(34, 8)\n",
      "(6, 8)\n",
      "(112, 8)\n",
      "(3, 8)\n",
      "(2, 8)\n",
      "(3, 8)\n",
      "(21, 8)\n",
      "(89, 8)\n",
      "(4, 8)\n",
      "(10, 8)\n",
      "(85, 8)\n",
      "(48, 8)\n",
      "(16, 8)\n",
      "(26, 8)\n",
      "(10, 8)\n",
      "(207, 8)\n",
      "(2, 8)\n",
      "(3, 8)\n",
      "(12, 8)\n",
      "(1, 8)\n",
      "(12, 8)\n",
      "(6, 8)\n",
      "(4, 8)\n",
      "(2, 8)\n",
      "(37, 8)\n",
      "(8, 8)\n",
      "(3, 8)\n",
      "(2, 8)\n",
      "(16, 8)\n",
      "(3, 8)\n",
      "(3, 8)\n",
      "(50, 8)\n",
      "(3, 8)\n",
      "(8, 8)\n",
      "(2, 8)\n",
      "(24, 8)\n",
      "(9, 8)\n",
      "(2, 8)\n",
      "(1, 8)\n",
      "(2, 8)\n",
      "(2, 8)\n",
      "(4, 8)\n",
      "(7, 8)\n",
      "(70, 8)\n",
      "(33, 8)\n",
      "(8, 8)\n",
      "(4, 8)\n",
      "(3, 8)\n",
      "(3, 8)\n",
      "(2, 8)\n",
      "(5, 8)\n",
      "(31, 8)\n",
      "(2, 8)\n",
      "(2, 8)\n",
      "(36, 8)\n",
      "(1, 8)\n",
      "(2, 8)\n",
      "(11, 8)\n",
      "(26, 8)\n",
      "(4, 8)\n",
      "(14, 8)\n",
      "(2, 8)\n",
      "(5, 8)\n",
      "(1, 8)\n",
      "(5, 8)\n",
      "(24, 8)\n",
      "(13, 8)\n",
      "(5, 8)\n",
      "(26, 8)\n",
      "(12, 8)\n",
      "(2, 8)\n",
      "(2, 8)\n",
      "(8, 8)\n",
      "(2, 8)\n",
      "(18, 8)\n",
      "(10, 8)\n",
      "(2, 8)\n",
      "(5, 8)\n",
      "(9, 8)\n",
      "(108, 8)\n",
      "(2, 8)\n",
      "(13, 8)\n",
      "(54, 8)\n",
      "(8, 8)\n",
      "(8, 8)\n",
      "(5, 8)\n",
      "(2, 8)\n",
      "(2, 8)\n",
      "(17, 8)\n",
      "(4, 8)\n",
      "(3, 8)\n",
      "(1, 8)\n",
      "(1, 8)\n",
      "(2, 8)\n",
      "(3, 8)\n",
      "(18, 8)\n",
      "(1, 8)\n",
      "(4, 8)\n",
      "(1, 8)\n",
      "(12, 8)\n",
      "(2, 8)\n",
      "(26, 8)\n",
      "(14, 8)\n",
      "(4, 8)\n",
      "(2, 8)\n",
      "(2, 8)\n",
      "(1, 8)\n",
      "(7, 8)\n",
      "(40, 8)\n",
      "(56, 8)\n",
      "(4, 8)\n",
      "(4, 8)\n",
      "(2, 8)\n",
      "(10, 8)\n",
      "(2, 8)\n",
      "(12, 8)\n",
      "(1, 8)\n",
      "(4, 8)\n",
      "(8, 8)\n",
      "(1, 8)\n",
      "(15, 8)\n",
      "(4, 8)\n",
      "(2, 8)\n",
      "(3, 8)\n",
      "(73, 8)\n",
      "(12, 8)\n",
      "(2, 8)\n",
      "(4, 8)\n",
      "(16, 8)\n",
      "(2, 8)\n",
      "(7, 8)\n",
      "(6, 8)\n",
      "(1, 8)\n",
      "(2, 8)\n",
      "(2, 8)\n",
      "(4, 8)\n",
      "(2, 8)\n",
      "(4, 8)\n",
      "(8, 8)\n",
      "(1, 8)\n",
      "(2, 8)\n",
      "(4, 8)\n",
      "(2, 8)\n",
      "(8, 8)\n",
      "(26, 8)\n",
      "(6, 8)\n",
      "(1, 8)\n",
      "(46, 8)\n",
      "(2, 8)\n",
      "(2, 8)\n",
      "(3, 8)\n",
      "(2, 8)\n",
      "(4, 8)\n",
      "(2, 8)\n",
      "(1, 8)\n",
      "(4, 8)\n",
      "(20, 8)\n",
      "(1, 8)\n",
      "(4, 8)\n",
      "(2, 8)\n",
      "(8, 8)\n",
      "(2, 8)\n",
      "(1, 8)\n",
      "(4, 8)\n",
      "(24, 8)\n",
      "(4, 8)\n",
      "(17, 8)\n",
      "(2, 8)\n",
      "(2, 8)\n",
      "(2, 8)\n",
      "(1, 8)\n",
      "(5, 8)\n",
      "(12, 8)\n",
      "(6, 8)\n",
      "(2, 8)\n",
      "(1, 8)\n",
      "(1, 8)\n",
      "(4, 8)\n",
      "(2, 8)\n",
      "(29, 8)\n",
      "(2, 8)\n",
      "(3, 8)\n",
      "(16, 8)\n",
      "(18, 8)\n",
      "(2, 8)\n",
      "(2, 8)\n",
      "(2, 8)\n",
      "(2, 8)\n",
      "(2, 8)\n",
      "(2, 8)\n",
      "(24, 8)\n",
      "(1, 8)\n",
      "(2, 8)\n",
      "(10, 8)\n",
      "(1, 8)\n",
      "(2, 8)\n",
      "(4, 8)\n",
      "(1, 8)\n",
      "(2, 8)\n",
      "(2, 8)\n",
      "(8, 8)\n",
      "(2, 8)\n",
      "(6, 8)\n",
      "(2, 8)\n",
      "(4, 8)\n",
      "(6, 8)\n",
      "(2, 8)\n"
     ]
    }
   ],
   "source": [
    "for keys in d.keys():\n",
    "    print(d[keys].shape)"
   ]
  },
  {
   "cell_type": "code",
   "execution_count": 67,
   "metadata": {},
   "outputs": [],
   "source": [
    "df_train_x = df_train.drop('downtime_duration', axis=1)"
   ]
  },
  {
   "cell_type": "code",
   "execution_count": 68,
   "metadata": {},
   "outputs": [],
   "source": [
    "df_train_merged = pd.concat([df_train_x, df_test],axis=0)"
   ]
  },
  {
   "cell_type": "code",
   "execution_count": 69,
   "metadata": {},
   "outputs": [],
   "source": [
    "for i in range(0,len(df_train_merged.columns)):\n",
    "    j=df_train_merged.columns[i]\n",
    "    if(j in cat_cols_test):\n",
    "        label_encoder = LabelEncoder()                  # converts the character array to numeric array. Assigns levels to unique labels.\n",
    "        label_encoder.fit(df_train_merged[j])\n",
    "        df_train_merged[j]  = label_encoder.transform(df_train_merged[j])\n",
    "        df_train_merged[j]  = df_train_merged[j].astype('category') "
   ]
  },
  {
   "cell_type": "code",
   "execution_count": 70,
   "metadata": {},
   "outputs": [
    {
     "data": {
      "text/html": [
       "<div>\n",
       "<style scoped>\n",
       "    .dataframe tbody tr th:only-of-type {\n",
       "        vertical-align: middle;\n",
       "    }\n",
       "\n",
       "    .dataframe tbody tr th {\n",
       "        vertical-align: top;\n",
       "    }\n",
       "\n",
       "    .dataframe thead th {\n",
       "        text-align: right;\n",
       "    }\n",
       "</style>\n",
       "<table border=\"1\" class=\"dataframe\">\n",
       "  <thead>\n",
       "    <tr style=\"text-align: right;\">\n",
       "      <th></th>\n",
       "      <th>id</th>\n",
       "      <th>factory_number</th>\n",
       "      <th>assembly_line_type</th>\n",
       "      <th>car_variant</th>\n",
       "      <th>issue_type</th>\n",
       "      <th>log_report_type</th>\n",
       "      <th>volume_range</th>\n",
       "    </tr>\n",
       "  </thead>\n",
       "  <tbody>\n",
       "    <tr>\n",
       "      <th>0</th>\n",
       "      <td>13366</td>\n",
       "      <td>407</td>\n",
       "      <td>2</td>\n",
       "      <td>25</td>\n",
       "      <td>3</td>\n",
       "      <td>205</td>\n",
       "      <td>0</td>\n",
       "    </tr>\n",
       "    <tr>\n",
       "      <th>1</th>\n",
       "      <td>6783</td>\n",
       "      <td>460</td>\n",
       "      <td>2</td>\n",
       "      <td>25</td>\n",
       "      <td>1</td>\n",
       "      <td>205</td>\n",
       "      <td>4</td>\n",
       "    </tr>\n",
       "    <tr>\n",
       "      <th>2</th>\n",
       "      <td>6783</td>\n",
       "      <td>460</td>\n",
       "      <td>2</td>\n",
       "      <td>25</td>\n",
       "      <td>1</td>\n",
       "      <td>134</td>\n",
       "      <td>0</td>\n",
       "    </tr>\n",
       "    <tr>\n",
       "      <th>3</th>\n",
       "      <td>6783</td>\n",
       "      <td>460</td>\n",
       "      <td>2</td>\n",
       "      <td>25</td>\n",
       "      <td>1</td>\n",
       "      <td>133</td>\n",
       "      <td>0</td>\n",
       "    </tr>\n",
       "    <tr>\n",
       "      <th>4</th>\n",
       "      <td>6783</td>\n",
       "      <td>460</td>\n",
       "      <td>2</td>\n",
       "      <td>25</td>\n",
       "      <td>1</td>\n",
       "      <td>208</td>\n",
       "      <td>4</td>\n",
       "    </tr>\n",
       "  </tbody>\n",
       "</table>\n",
       "</div>"
      ],
      "text/plain": [
       "      id factory_number assembly_line_type car_variant issue_type  \\\n",
       "0  13366            407                  2          25          3   \n",
       "1   6783            460                  2          25          1   \n",
       "2   6783            460                  2          25          1   \n",
       "3   6783            460                  2          25          1   \n",
       "4   6783            460                  2          25          1   \n",
       "\n",
       "  log_report_type volume_range  \n",
       "0             205            0  \n",
       "1             205            4  \n",
       "2             134            0  \n",
       "3             133            0  \n",
       "4             208            4  "
      ]
     },
     "execution_count": 70,
     "metadata": {},
     "output_type": "execute_result"
    }
   ],
   "source": [
    "df_train_merged.head() "
   ]
  },
  {
   "cell_type": "code",
   "execution_count": 71,
   "metadata": {},
   "outputs": [
    {
     "data": {
      "text/html": [
       "<div>\n",
       "<style scoped>\n",
       "    .dataframe tbody tr th:only-of-type {\n",
       "        vertical-align: middle;\n",
       "    }\n",
       "\n",
       "    .dataframe tbody tr th {\n",
       "        vertical-align: top;\n",
       "    }\n",
       "\n",
       "    .dataframe thead th {\n",
       "        text-align: right;\n",
       "    }\n",
       "</style>\n",
       "<table border=\"1\" class=\"dataframe\">\n",
       "  <thead>\n",
       "    <tr style=\"text-align: right;\">\n",
       "      <th></th>\n",
       "      <th>id</th>\n",
       "      <th>factory_number</th>\n",
       "      <th>assembly_line_type</th>\n",
       "      <th>car_variant</th>\n",
       "      <th>issue_type</th>\n",
       "      <th>log_report_type</th>\n",
       "      <th>volume_range</th>\n",
       "    </tr>\n",
       "  </thead>\n",
       "  <tbody>\n",
       "    <tr>\n",
       "      <th>12861</th>\n",
       "      <td>989</td>\n",
       "      <td>374</td>\n",
       "      <td>3</td>\n",
       "      <td>1</td>\n",
       "      <td>3</td>\n",
       "      <td>142</td>\n",
       "      <td>4</td>\n",
       "    </tr>\n",
       "    <tr>\n",
       "      <th>12862</th>\n",
       "      <td>989</td>\n",
       "      <td>374</td>\n",
       "      <td>3</td>\n",
       "      <td>1</td>\n",
       "      <td>3</td>\n",
       "      <td>50</td>\n",
       "      <td>4</td>\n",
       "    </tr>\n",
       "    <tr>\n",
       "      <th>12863</th>\n",
       "      <td>989</td>\n",
       "      <td>374</td>\n",
       "      <td>3</td>\n",
       "      <td>1</td>\n",
       "      <td>3</td>\n",
       "      <td>51</td>\n",
       "      <td>4</td>\n",
       "    </tr>\n",
       "    <tr>\n",
       "      <th>12864</th>\n",
       "      <td>3129</td>\n",
       "      <td>66</td>\n",
       "      <td>8</td>\n",
       "      <td>2</td>\n",
       "      <td>0</td>\n",
       "      <td>284</td>\n",
       "      <td>4</td>\n",
       "    </tr>\n",
       "    <tr>\n",
       "      <th>12865</th>\n",
       "      <td>3129</td>\n",
       "      <td>66</td>\n",
       "      <td>8</td>\n",
       "      <td>2</td>\n",
       "      <td>0</td>\n",
       "      <td>69</td>\n",
       "      <td>4</td>\n",
       "    </tr>\n",
       "  </tbody>\n",
       "</table>\n",
       "</div>"
      ],
      "text/plain": [
       "         id factory_number assembly_line_type car_variant issue_type  \\\n",
       "12861   989            374                  3           1          3   \n",
       "12862   989            374                  3           1          3   \n",
       "12863   989            374                  3           1          3   \n",
       "12864  3129             66                  8           2          0   \n",
       "12865  3129             66                  8           2          0   \n",
       "\n",
       "      log_report_type volume_range  \n",
       "12861             142            4  \n",
       "12862              50            4  \n",
       "12863              51            4  \n",
       "12864             284            4  \n",
       "12865              69            4  "
      ]
     },
     "execution_count": 71,
     "metadata": {},
     "output_type": "execute_result"
    }
   ],
   "source": [
    "df_train_merged.tail() "
   ]
  },
  {
   "cell_type": "code",
   "execution_count": 72,
   "metadata": {},
   "outputs": [],
   "source": [
    "df_test_encoded=df_train_merged[df_train_merged.id.isin(df_test.id.tolist())]"
   ]
  },
  {
   "cell_type": "code",
   "execution_count": 73,
   "metadata": {},
   "outputs": [],
   "source": [
    "df_train_encoded= df_train_merged[~df_train_merged.id.isin(df_test.id.tolist())] "
   ]
  },
  {
   "cell_type": "code",
   "execution_count": 74,
   "metadata": {},
   "outputs": [],
   "source": [
    "def classifcation_report_train_test(y_train, y_train_pred):\n",
    "\n",
    "    print('''\n",
    "            =========================================\n",
    "               CLASSIFICATION REPORT FOR TRAIN DATA\n",
    "            =========================================\n",
    "            ''')\n",
    "    print(classification_report(y_train, y_train_pred))"
   ]
  },
  {
   "cell_type": "code",
   "execution_count": 75,
   "metadata": {},
   "outputs": [],
   "source": [
    "df_train_clean = df_train_encoded.drop(\"id\",axis=1)\n",
    "df_test_clean = df_test_encoded.drop(\"id\", axis =1)"
   ]
  },
  {
   "cell_type": "code",
   "execution_count": 76,
   "metadata": {},
   "outputs": [],
   "source": [
    "y_train = df_train.downtime_duration"
   ]
  },
  {
   "cell_type": "code",
   "execution_count": 77,
   "metadata": {},
   "outputs": [
    {
     "data": {
      "text/plain": [
       "GridSearchCV(cv=10, error_score=nan,\n",
       "             estimator=DecisionTreeClassifier(ccp_alpha=0.0,\n",
       "                                              class_weight='balanced',\n",
       "                                              criterion='gini', max_depth=None,\n",
       "                                              max_features=None,\n",
       "                                              max_leaf_nodes=None,\n",
       "                                              min_impurity_decrease=0.0,\n",
       "                                              min_impurity_split=None,\n",
       "                                              min_samples_leaf=1,\n",
       "                                              min_samples_split=2,\n",
       "                                              min_weight_fraction_leaf=0.0,\n",
       "                                              presort='deprecated',\n",
       "                                              random_state=1234,\n",
       "                                              splitter='best'),\n",
       "             iid='deprecated', n_jobs=-1,\n",
       "             param_grid={'criterion': ['gini', 'entropy'], 'max_depth': [2, 3],\n",
       "                         'min_samples_leaf': [5, 6],\n",
       "                         'min_samples_split': [1, 2, 5, 10]},\n",
       "             pre_dispatch='2*n_jobs', refit=True, return_train_score=False,\n",
       "             scoring=None, verbose=0)"
      ]
     },
     "execution_count": 77,
     "metadata": {},
     "output_type": "execute_result"
    }
   ],
   "source": [
    "# Building Decison Tree Classifier with CV\n",
    "paramgrid = {\"criterion\": [\"gini\", \"entropy\"], \n",
    "               \"max_depth\": list(range(2,4,1)), \n",
    "              \"min_samples_leaf\": list(range(5,7,1)),\n",
    "             \"min_samples_split\": [1,2,5,10]}\n",
    "dt_gridsearch = GridSearchCV(DecisionTreeClassifier(class_weight=\"balanced\", random_state=1234),\n",
    "                             param_grid=paramgrid,n_jobs=-1,cv=10)\n",
    "dt_gridsearch.fit(df_train_clean,y_train)"
   ]
  },
  {
   "cell_type": "code",
   "execution_count": 78,
   "metadata": {},
   "outputs": [],
   "source": [
    "y_train_predict = dt_gridsearch.best_estimator_.predict(df_train_clean)\n",
    "y_test_predict = dt_gridsearch.best_estimator_.predict(df_test_clean)"
   ]
  },
  {
   "cell_type": "code",
   "execution_count": 79,
   "metadata": {},
   "outputs": [],
   "source": [
    "df_test_dt_cv = df_test.copy()"
   ]
  },
  {
   "cell_type": "code",
   "execution_count": 80,
   "metadata": {},
   "outputs": [],
   "source": [
    "df_test_dt_cv[\"downtime_duration\"] = y_test_predict"
   ]
  },
  {
   "cell_type": "code",
   "execution_count": 81,
   "metadata": {},
   "outputs": [],
   "source": [
    "df_test_dt_cv.drop(cat_cols_test,axis=1,inplace=True) "
   ]
  },
  {
   "cell_type": "code",
   "execution_count": 82,
   "metadata": {},
   "outputs": [],
   "source": [
    "df_test_dt_cv.drop_duplicates(subset=\"id\",keep=\"first\", inplace=True)"
   ]
  },
  {
   "cell_type": "code",
   "execution_count": 83,
   "metadata": {},
   "outputs": [
    {
     "data": {
      "text/plain": [
       "(1477, 2)"
      ]
     },
     "execution_count": 83,
     "metadata": {},
     "output_type": "execute_result"
    }
   ],
   "source": [
    "df_test_dt_cv.shape"
   ]
  },
  {
   "cell_type": "code",
   "execution_count": 84,
   "metadata": {},
   "outputs": [
    {
     "name": "stdout",
     "output_type": "stream",
     "text": [
      "\n",
      "            =========================================\n",
      "               CLASSIFICATION REPORT FOR TRAIN DATA\n",
      "            =========================================\n",
      "            \n",
      "              precision    recall  f1-score   support\n",
      "\n",
      "           0       0.87      0.48      0.62     29347\n",
      "           1       0.38      0.48      0.42     12812\n",
      "           2       0.28      0.68      0.40      6814\n",
      "\n",
      "    accuracy                           0.51     48973\n",
      "   macro avg       0.51      0.55      0.48     48973\n",
      "weighted avg       0.66      0.51      0.54     48973\n",
      "\n"
     ]
    }
   ],
   "source": [
    "classifcation_report_train_test(y_train, y_train_predict)"
   ]
  },
  {
   "cell_type": "code",
   "execution_count": 85,
   "metadata": {},
   "outputs": [
    {
     "data": {
      "text/plain": [
       "RandomForestClassifier(bootstrap=True, ccp_alpha=0.0, class_weight='balanced',\n",
       "                       criterion='gini', max_depth=7, max_features='auto',\n",
       "                       max_leaf_nodes=None, max_samples=None,\n",
       "                       min_impurity_decrease=0.0, min_impurity_split=None,\n",
       "                       min_samples_leaf=1, min_samples_split=2,\n",
       "                       min_weight_fraction_leaf=0.0, n_estimators=50,\n",
       "                       n_jobs=None, oob_score=False, random_state=1234,\n",
       "                       verbose=0, warm_start=False)"
      ]
     },
     "execution_count": 85,
     "metadata": {},
     "output_type": "execute_result"
    }
   ],
   "source": [
    "# Building a Basic Random forest Model\n",
    "rf_clf = RandomForestClassifier(class_weight=\"balanced\",n_estimators=50, max_depth=7,\n",
    "                                random_state=1234)\n",
    "rf_clf.fit(df_train_clean,y_train)"
   ]
  },
  {
   "cell_type": "code",
   "execution_count": 86,
   "metadata": {},
   "outputs": [],
   "source": [
    "y_train_predict_rf = rf_clf.predict(df_train_clean)\n",
    "y_test_predict_rf = rf_clf.predict(df_test_clean) "
   ]
  },
  {
   "cell_type": "code",
   "execution_count": 87,
   "metadata": {},
   "outputs": [],
   "source": [
    "df_test_rf= df_test.copy() "
   ]
  },
  {
   "cell_type": "code",
   "execution_count": 88,
   "metadata": {},
   "outputs": [],
   "source": [
    "df_test_rf[\"downtime_duration\"] = y_test_predict_rf"
   ]
  },
  {
   "cell_type": "code",
   "execution_count": 89,
   "metadata": {},
   "outputs": [],
   "source": [
    "df_test_rf.drop(cat_cols_test,axis=1,inplace=True)"
   ]
  },
  {
   "cell_type": "code",
   "execution_count": 90,
   "metadata": {},
   "outputs": [],
   "source": [
    "df_test_rf.drop_duplicates(subset=\"id\",keep='first',inplace=True)"
   ]
  },
  {
   "cell_type": "code",
   "execution_count": 91,
   "metadata": {},
   "outputs": [
    {
     "data": {
      "text/plain": [
       "(1477, 2)"
      ]
     },
     "execution_count": 91,
     "metadata": {},
     "output_type": "execute_result"
    }
   ],
   "source": [
    "df_test_rf.shape"
   ]
  },
  {
   "cell_type": "code",
   "execution_count": 92,
   "metadata": {},
   "outputs": [
    {
     "name": "stdout",
     "output_type": "stream",
     "text": [
      "\n",
      "            =========================================\n",
      "               CLASSIFICATION REPORT FOR TRAIN DATA\n",
      "            =========================================\n",
      "            \n",
      "              precision    recall  f1-score   support\n",
      "\n",
      "           0       0.92      0.53      0.67     29347\n",
      "           1       0.48      0.56      0.52     12812\n",
      "           2       0.35      0.90      0.50      6814\n",
      "\n",
      "    accuracy                           0.59     48973\n",
      "   macro avg       0.59      0.66      0.56     48973\n",
      "weighted avg       0.73      0.59      0.61     48973\n",
      "\n"
     ]
    }
   ],
   "source": [
    "classifcation_report_train_test(y_train, y_train_predict_rf) "
   ]
  },
  {
   "cell_type": "markdown",
   "metadata": {},
   "source": [
    "# I have Perform advance analysis using another approach in other file"
   ]
  },
  {
   "cell_type": "code",
   "execution_count": null,
   "metadata": {},
   "outputs": [],
   "source": []
  }
 ],
 "metadata": {
  "kernelspec": {
   "display_name": "Python 3",
   "language": "python",
   "name": "python3"
  },
  "language_info": {
   "codemirror_mode": {
    "name": "ipython",
    "version": 3
   },
   "file_extension": ".py",
   "mimetype": "text/x-python",
   "name": "python",
   "nbconvert_exporter": "python",
   "pygments_lexer": "ipython3",
   "version": "3.6.5"
  }
 },
 "nbformat": 4,
 "nbformat_minor": 2
}
